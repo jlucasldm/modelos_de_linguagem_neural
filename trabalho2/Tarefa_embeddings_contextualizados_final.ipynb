{
  "cells": [
    {
      "cell_type": "markdown",
      "metadata": {},
      "source": [
        "# Tarefa 2\n",
        "\n",
        "Nesta tarefa, você deve comparar as representações extraídas dos embeddings do modelo BERTweet.BR (treinado com tweets em português) e dos embeddings do modelo BERTimbau.\n",
        "A extração completa para o BERTweet.BR está pronta no Notebook. Você deve reproduzir o código nos locais indicados para o BERTimbau.\n",
        "\n",
        "Ao final, você deve escolher 3 representações que os modelos concordaram e dizer se concorda ou não; e escolher 3 que os modelos discordaram e dizer com quem você concorda mais. Você não precisa postar o notebook, mas pode apenas colocar essas 6 saídas da função que retorna os mais similares, juntamente com a sua avaliação. \n",
        "\n",
        "Você também pode gerar as representações vetoriais dos dois modelos para substituir a tarefa anterior. Mas esta é uma tarefa extra. Quem fez a primeira, não precisa fazer."
      ]
    },
    {
      "cell_type": "markdown",
      "metadata": {
        "id": "bjnHI-WWIb3g"
      },
      "source": [
        "# Verificando a representação de emojis"
      ]
    },
    {
      "cell_type": "code",
      "execution_count": 1,
      "metadata": {
        "colab": {
          "base_uri": "https://localhost:8080/"
        },
        "id": "uIfC7DMEWRGY",
        "outputId": "28652b37-8322-4d75-b71f-67b8469db91b"
      },
      "outputs": [
        {
          "name": "stdout",
          "output_type": "stream",
          "text": [
            "Requirement already satisfied: emoji in c:\\users\\oknotok\\documents\\computacao\\tomorrow\\modelos_de_linguagem_neurais\\lain\\lib\\site-packages (2.13.0)\n",
            "Requirement already satisfied: typing-extensions>=4.7.0 in c:\\users\\oknotok\\documents\\computacao\\tomorrow\\modelos_de_linguagem_neurais\\lain\\lib\\site-packages (from emoji) (4.12.2)\n"
          ]
        },
        {
          "name": "stderr",
          "output_type": "stream",
          "text": [
            "\n",
            "[notice] A new release of pip available: 22.3 -> 24.2\n",
            "[notice] To update, run: python.exe -m pip install --upgrade pip\n"
          ]
        }
      ],
      "source": [
        "# pacote que transforma emojis em texto e vice-versa\n",
        "!pip install emoji"
      ]
    },
    {
      "cell_type": "markdown",
      "metadata": {
        "id": "Q7FMWWMmTnzl"
      },
      "source": [
        "Carregando o modelo de Twitter e seus tokenizadores"
      ]
    },
    {
      "cell_type": "code",
      "execution_count": 1,
      "metadata": {
        "id": "Fq6N4xxETVnK"
      },
      "outputs": [
        {
          "name": "stderr",
          "output_type": "stream",
          "text": [
            "c:\\Users\\oknotok\\Documents\\computacao\\tomorrow\\modelos_de_linguagem_neurais\\lain\\Lib\\site-packages\\tqdm\\auto.py:21: TqdmWarning: IProgress not found. Please update jupyter and ipywidgets. See https://ipywidgets.readthedocs.io/en/stable/user_install.html\n",
            "  from .autonotebook import tqdm as notebook_tqdm\n"
          ]
        }
      ],
      "source": [
        "from emoji import demojize, emojize\n",
        "import torch\n",
        "from transformers import AutoModel, AutoTokenizer, BertConfig"
      ]
    },
    {
      "cell_type": "code",
      "execution_count": 2,
      "metadata": {
        "colab": {
          "base_uri": "https://localhost:8080/",
          "height": 452,
          "referenced_widgets": [
            "c54194a146944d81b105d43829b0ad92",
            "a8183620bd42460da9175a49319292dc",
            "90eb0c0875f847d182d3cd7fcc8ecece",
            "01cf4983a12d4f059de5c426dbd39ba4",
            "8365d8f6b25c464ab7a04ba4bdf19244",
            "6c2e50702bf3441980db57092dcb062c",
            "821170c06b7b4fed9629fe05c13aece6",
            "7df426b223494da2988d290c8868eb3e",
            "10b1626ab83a42e19a5f34368f4019fe",
            "3fab86bb34904ac8acd69a71308b55d3",
            "176460e5ad104a1fbda56f38e37e392b",
            "b18da75ba1454e5e89bb7d617f57e67f",
            "8b7e111adf0e4805ae63653331884174",
            "9949c531a8784d148706ed0e9ef4ded9",
            "e7019ed210d94061ba60155311b5ca47",
            "60e85d1a429640ea8536264e8b79c58b",
            "3c82b45b1ccf46b7a7ba4e944f3a9406",
            "6f4e139a61b24c2f9357ea57bb4cfc97",
            "06db060107284459ab6654c33b537f4f",
            "5c4a46635fb94211baef608fe66587a4",
            "e78d1a412b7a47a0846a8f1a3151484d",
            "53e1ddc4efa940acae75a25ffa5de193",
            "626241595bdb44e194ccdb38e486e1d4",
            "e81c0251aa244789b232c38252873865",
            "5ec45d2413ca4ad4b41c9c94b56bc9d9",
            "2676e87b661245458158d77e1620d1ba",
            "19921a1dfb9f4aa29f87d22698e962ae",
            "5e8221e146af4892b730cd4dffd5a5d4",
            "410c2955407142038e0c3319126db989",
            "ac22cf8e6e4640858f21306636a6aa72",
            "3a5778f51f514cd7adeee7da31994b39",
            "f79d50a4746842e8ba0cffe403f97ce4",
            "109e6c404db046dc949c7623b3de13b6",
            "67c342669ced4606844a5dbfca2c383c",
            "4322c432a6654e29af8354876d5fcbad",
            "377f517913c440f79e753887d8aab89d",
            "d2619f01c250499ba8b379075abf8310",
            "54a7f8c03c37423ab38d5b0ccba02606",
            "adeb1e28f7cd4ffdb9d745ddac2331e2",
            "c4619b5aff164252a3851fa58b54efbe",
            "cdf90f1a8d6e487a82adf1eeb5427e0e",
            "750737f81ed845a6b9698ec92bbe2a04",
            "bc0005b4186546f3aab2ba10caf172b6",
            "267ef0e526694127a7587903465ebd56",
            "543908cddcda459d9c4441654d3a6d10",
            "3840aa2d6184476cae38a635b74a4fa0",
            "d21e2bd3e69c4df3b8cd873945e07bb6",
            "2a7188bda1704027a3bd4c8faba2dc04",
            "08650da4e6d04433801d4194b0b6ccee",
            "8d15a689c6a94a1698466b12a501aa2e",
            "e0daa5ec29da4cef944fb95c81b1b0de",
            "1c3a6603e1af437593cdec3ebe9686b3",
            "f40b649e9923465f9d102309106109d6",
            "a6ec6fad1e5045cdbf57bf6bc1879ecf",
            "6ca91100efa94e20a753e59aee688a21",
            "7b61aff77219497bbf661e72e0a7f7c2",
            "7d5546dce5864a5fbdff26cd0e71966b",
            "9ebf8eefae504f81ac0782ffe8be1e3d",
            "3eadff92d31d4298a2c70b8ebfed70fe",
            "7116653d90c94a7e8e50d6b1988f862d",
            "f19d79598d6b40b08a23b50d43ca9a30",
            "f0d6a9df012f438589f53463d9ec070e",
            "33d5b985a02c40be828028138a92ba3b",
            "07e2cebfc41a495e8e6460e06e37a6d6",
            "0901085111694c609e342a86f264fb17",
            "b42fdc0dbb2c489cbdc47cef40a5ad9a",
            "7674eba9bba3430ca1de43e705a773f0",
            "e091a439bfbc41e5975da8df9a4bd72f",
            "415002058e554acdaf47580391b08ed0",
            "c918ec3f61be4de89ee5c96b03591127",
            "d95fe161c7944b93b48630ed238fd28e",
            "a78b82f019884515833aed54db5895f2",
            "fc4a27f725534cd38bcc854840815be3",
            "1153418325174c7da5f95d1901f3f8eb",
            "e13cf874479943f8bc5d08de771c388d",
            "fad503ff687b4ac6975d66632ca33dbc",
            "0f131622a609400cb0787ef73c8d292f"
          ]
        },
        "id": "WIeHagqkUQop",
        "outputId": "28389e48-e742-4ad0-8283-cc928973a879"
      },
      "outputs": [
        {
          "name": "stderr",
          "output_type": "stream",
          "text": [
            "You are using a model of type roberta to instantiate a model of type bert. This is not supported for all configurations of models and can yield errors.\n",
            "Some weights of BertModel were not initialized from the model checkpoint at melll-uff/bertweetbr and are newly initialized: ['embeddings.LayerNorm.bias', 'embeddings.LayerNorm.weight', 'embeddings.position_embeddings.weight', 'embeddings.token_type_embeddings.weight', 'embeddings.word_embeddings.weight', 'encoder.layer.0.attention.output.LayerNorm.bias', 'encoder.layer.0.attention.output.LayerNorm.weight', 'encoder.layer.0.attention.output.dense.bias', 'encoder.layer.0.attention.output.dense.weight', 'encoder.layer.0.attention.self.key.bias', 'encoder.layer.0.attention.self.key.weight', 'encoder.layer.0.attention.self.query.bias', 'encoder.layer.0.attention.self.query.weight', 'encoder.layer.0.attention.self.value.bias', 'encoder.layer.0.attention.self.value.weight', 'encoder.layer.0.intermediate.dense.bias', 'encoder.layer.0.intermediate.dense.weight', 'encoder.layer.0.output.LayerNorm.bias', 'encoder.layer.0.output.LayerNorm.weight', 'encoder.layer.0.output.dense.bias', 'encoder.layer.0.output.dense.weight', 'encoder.layer.1.attention.output.LayerNorm.bias', 'encoder.layer.1.attention.output.LayerNorm.weight', 'encoder.layer.1.attention.output.dense.bias', 'encoder.layer.1.attention.output.dense.weight', 'encoder.layer.1.attention.self.key.bias', 'encoder.layer.1.attention.self.key.weight', 'encoder.layer.1.attention.self.query.bias', 'encoder.layer.1.attention.self.query.weight', 'encoder.layer.1.attention.self.value.bias', 'encoder.layer.1.attention.self.value.weight', 'encoder.layer.1.intermediate.dense.bias', 'encoder.layer.1.intermediate.dense.weight', 'encoder.layer.1.output.LayerNorm.bias', 'encoder.layer.1.output.LayerNorm.weight', 'encoder.layer.1.output.dense.bias', 'encoder.layer.1.output.dense.weight', 'encoder.layer.10.attention.output.LayerNorm.bias', 'encoder.layer.10.attention.output.LayerNorm.weight', 'encoder.layer.10.attention.output.dense.bias', 'encoder.layer.10.attention.output.dense.weight', 'encoder.layer.10.attention.self.key.bias', 'encoder.layer.10.attention.self.key.weight', 'encoder.layer.10.attention.self.query.bias', 'encoder.layer.10.attention.self.query.weight', 'encoder.layer.10.attention.self.value.bias', 'encoder.layer.10.attention.self.value.weight', 'encoder.layer.10.intermediate.dense.bias', 'encoder.layer.10.intermediate.dense.weight', 'encoder.layer.10.output.LayerNorm.bias', 'encoder.layer.10.output.LayerNorm.weight', 'encoder.layer.10.output.dense.bias', 'encoder.layer.10.output.dense.weight', 'encoder.layer.11.attention.output.LayerNorm.bias', 'encoder.layer.11.attention.output.LayerNorm.weight', 'encoder.layer.11.attention.output.dense.bias', 'encoder.layer.11.attention.output.dense.weight', 'encoder.layer.11.attention.self.key.bias', 'encoder.layer.11.attention.self.key.weight', 'encoder.layer.11.attention.self.query.bias', 'encoder.layer.11.attention.self.query.weight', 'encoder.layer.11.attention.self.value.bias', 'encoder.layer.11.attention.self.value.weight', 'encoder.layer.11.intermediate.dense.bias', 'encoder.layer.11.intermediate.dense.weight', 'encoder.layer.11.output.LayerNorm.bias', 'encoder.layer.11.output.LayerNorm.weight', 'encoder.layer.11.output.dense.bias', 'encoder.layer.11.output.dense.weight', 'encoder.layer.2.attention.output.LayerNorm.bias', 'encoder.layer.2.attention.output.LayerNorm.weight', 'encoder.layer.2.attention.output.dense.bias', 'encoder.layer.2.attention.output.dense.weight', 'encoder.layer.2.attention.self.key.bias', 'encoder.layer.2.attention.self.key.weight', 'encoder.layer.2.attention.self.query.bias', 'encoder.layer.2.attention.self.query.weight', 'encoder.layer.2.attention.self.value.bias', 'encoder.layer.2.attention.self.value.weight', 'encoder.layer.2.intermediate.dense.bias', 'encoder.layer.2.intermediate.dense.weight', 'encoder.layer.2.output.LayerNorm.bias', 'encoder.layer.2.output.LayerNorm.weight', 'encoder.layer.2.output.dense.bias', 'encoder.layer.2.output.dense.weight', 'encoder.layer.3.attention.output.LayerNorm.bias', 'encoder.layer.3.attention.output.LayerNorm.weight', 'encoder.layer.3.attention.output.dense.bias', 'encoder.layer.3.attention.output.dense.weight', 'encoder.layer.3.attention.self.key.bias', 'encoder.layer.3.attention.self.key.weight', 'encoder.layer.3.attention.self.query.bias', 'encoder.layer.3.attention.self.query.weight', 'encoder.layer.3.attention.self.value.bias', 'encoder.layer.3.attention.self.value.weight', 'encoder.layer.3.intermediate.dense.bias', 'encoder.layer.3.intermediate.dense.weight', 'encoder.layer.3.output.LayerNorm.bias', 'encoder.layer.3.output.LayerNorm.weight', 'encoder.layer.3.output.dense.bias', 'encoder.layer.3.output.dense.weight', 'encoder.layer.4.attention.output.LayerNorm.bias', 'encoder.layer.4.attention.output.LayerNorm.weight', 'encoder.layer.4.attention.output.dense.bias', 'encoder.layer.4.attention.output.dense.weight', 'encoder.layer.4.attention.self.key.bias', 'encoder.layer.4.attention.self.key.weight', 'encoder.layer.4.attention.self.query.bias', 'encoder.layer.4.attention.self.query.weight', 'encoder.layer.4.attention.self.value.bias', 'encoder.layer.4.attention.self.value.weight', 'encoder.layer.4.intermediate.dense.bias', 'encoder.layer.4.intermediate.dense.weight', 'encoder.layer.4.output.LayerNorm.bias', 'encoder.layer.4.output.LayerNorm.weight', 'encoder.layer.4.output.dense.bias', 'encoder.layer.4.output.dense.weight', 'encoder.layer.5.attention.output.LayerNorm.bias', 'encoder.layer.5.attention.output.LayerNorm.weight', 'encoder.layer.5.attention.output.dense.bias', 'encoder.layer.5.attention.output.dense.weight', 'encoder.layer.5.attention.self.key.bias', 'encoder.layer.5.attention.self.key.weight', 'encoder.layer.5.attention.self.query.bias', 'encoder.layer.5.attention.self.query.weight', 'encoder.layer.5.attention.self.value.bias', 'encoder.layer.5.attention.self.value.weight', 'encoder.layer.5.intermediate.dense.bias', 'encoder.layer.5.intermediate.dense.weight', 'encoder.layer.5.output.LayerNorm.bias', 'encoder.layer.5.output.LayerNorm.weight', 'encoder.layer.5.output.dense.bias', 'encoder.layer.5.output.dense.weight', 'encoder.layer.6.attention.output.LayerNorm.bias', 'encoder.layer.6.attention.output.LayerNorm.weight', 'encoder.layer.6.attention.output.dense.bias', 'encoder.layer.6.attention.output.dense.weight', 'encoder.layer.6.attention.self.key.bias', 'encoder.layer.6.attention.self.key.weight', 'encoder.layer.6.attention.self.query.bias', 'encoder.layer.6.attention.self.query.weight', 'encoder.layer.6.attention.self.value.bias', 'encoder.layer.6.attention.self.value.weight', 'encoder.layer.6.intermediate.dense.bias', 'encoder.layer.6.intermediate.dense.weight', 'encoder.layer.6.output.LayerNorm.bias', 'encoder.layer.6.output.LayerNorm.weight', 'encoder.layer.6.output.dense.bias', 'encoder.layer.6.output.dense.weight', 'encoder.layer.7.attention.output.LayerNorm.bias', 'encoder.layer.7.attention.output.LayerNorm.weight', 'encoder.layer.7.attention.output.dense.bias', 'encoder.layer.7.attention.output.dense.weight', 'encoder.layer.7.attention.self.key.bias', 'encoder.layer.7.attention.self.key.weight', 'encoder.layer.7.attention.self.query.bias', 'encoder.layer.7.attention.self.query.weight', 'encoder.layer.7.attention.self.value.bias', 'encoder.layer.7.attention.self.value.weight', 'encoder.layer.7.intermediate.dense.bias', 'encoder.layer.7.intermediate.dense.weight', 'encoder.layer.7.output.LayerNorm.bias', 'encoder.layer.7.output.LayerNorm.weight', 'encoder.layer.7.output.dense.bias', 'encoder.layer.7.output.dense.weight', 'encoder.layer.8.attention.output.LayerNorm.bias', 'encoder.layer.8.attention.output.LayerNorm.weight', 'encoder.layer.8.attention.output.dense.bias', 'encoder.layer.8.attention.output.dense.weight', 'encoder.layer.8.attention.self.key.bias', 'encoder.layer.8.attention.self.key.weight', 'encoder.layer.8.attention.self.query.bias', 'encoder.layer.8.attention.self.query.weight', 'encoder.layer.8.attention.self.value.bias', 'encoder.layer.8.attention.self.value.weight', 'encoder.layer.8.intermediate.dense.bias', 'encoder.layer.8.intermediate.dense.weight', 'encoder.layer.8.output.LayerNorm.bias', 'encoder.layer.8.output.LayerNorm.weight', 'encoder.layer.8.output.dense.bias', 'encoder.layer.8.output.dense.weight', 'encoder.layer.9.attention.output.LayerNorm.bias', 'encoder.layer.9.attention.output.LayerNorm.weight', 'encoder.layer.9.attention.output.dense.bias', 'encoder.layer.9.attention.output.dense.weight', 'encoder.layer.9.attention.self.key.bias', 'encoder.layer.9.attention.self.key.weight', 'encoder.layer.9.attention.self.query.bias', 'encoder.layer.9.attention.self.query.weight', 'encoder.layer.9.attention.self.value.bias', 'encoder.layer.9.attention.self.value.weight', 'encoder.layer.9.intermediate.dense.bias', 'encoder.layer.9.intermediate.dense.weight', 'encoder.layer.9.output.LayerNorm.bias', 'encoder.layer.9.output.LayerNorm.weight', 'encoder.layer.9.output.dense.bias', 'encoder.layer.9.output.dense.weight', 'pooler.dense.bias', 'pooler.dense.weight']\n",
            "You should probably TRAIN this model on a down-stream task to be able to use it for predictions and inference.\n",
            "c:\\Users\\oknotok\\Documents\\computacao\\tomorrow\\modelos_de_linguagem_neurais\\lain\\Lib\\site-packages\\transformers\\tokenization_utils_base.py:1601: FutureWarning: `clean_up_tokenization_spaces` was not set. It will be set to `True` by default. This behavior will be depracted in transformers v4.45, and will be then set to `False` by default. For more details check this issue: https://github.com/huggingface/transformers/issues/31884\n",
            "  warnings.warn(\n"
          ]
        }
      ],
      "source": [
        "model_name_tweets = 'melll-uff/bertweetbr'\n",
        "config_tweets = BertConfig.from_pretrained(model_name_tweets, output_hidden_states=True)\n",
        "\n",
        "model_tweets = AutoModel.from_pretrained(model_name_tweets, config=config_tweets)\n",
        "tokenizer_tweets = AutoTokenizer.from_pretrained(model_name_tweets, normalization=True)"
      ]
    },
    {
      "cell_type": "markdown",
      "metadata": {
        "id": "39AcqYp-UyUx"
      },
      "source": [
        "# Lista de emojis: você pode aumentar ou diminuior essa lista"
      ]
    },
    {
      "cell_type": "code",
      "execution_count": 3,
      "metadata": {
        "id": "_ZH-HLI-UhZg"
      },
      "outputs": [],
      "source": [
        "lista_emojis = ['😀 😃 😄 😁 😆 😅 🤣 😂 🙂 🙃 🫠 😉 😊 😇 🥰 😍 🤩 😘 😗 😚 😙 🥲 😋 😛 😜 🤪 😝 🤑 🤗 🤭 🫢 🫣 🤫 🤔 🫡 🤐 🤨 😐 😑 😶 🫥 😶‍🌫️ 😏 😒 🙄 😬 😮‍💨 🥵 🤧 🤮 🤢 🤕 🤒 😷 😴 🤤 😪 😔 😌 🙂‍↕️ 🙂‍↔️ 🫨 🤥']"
      ]
    },
    {
      "cell_type": "markdown",
      "metadata": {
        "id": "k9YYWgg5mDpY"
      },
      "source": [
        "# Transformando a string de emojis em uma lista"
      ]
    },
    {
      "cell_type": "code",
      "execution_count": 4,
      "metadata": {
        "colab": {
          "base_uri": "https://localhost:8080/"
        },
        "id": "iUerglV2XGtR",
        "outputId": "e13b5198-519b-4b6c-e155-6bde7d25a4d1"
      },
      "outputs": [
        {
          "data": {
            "text/plain": [
              "['😀',\n",
              " '😃',\n",
              " '😄',\n",
              " '😁',\n",
              " '😆',\n",
              " '😅',\n",
              " '🤣',\n",
              " '😂',\n",
              " '🙂',\n",
              " '🙃',\n",
              " '🫠',\n",
              " '😉',\n",
              " '😊',\n",
              " '😇',\n",
              " '🥰',\n",
              " '😍',\n",
              " '🤩',\n",
              " '😘',\n",
              " '😗',\n",
              " '😚',\n",
              " '😙',\n",
              " '🥲',\n",
              " '😋',\n",
              " '😛',\n",
              " '😜',\n",
              " '🤪',\n",
              " '😝',\n",
              " '🤑',\n",
              " '🤗',\n",
              " '🤭',\n",
              " '🫢',\n",
              " '🫣',\n",
              " '🤫',\n",
              " '🤔',\n",
              " '🫡',\n",
              " '🤐',\n",
              " '🤨',\n",
              " '😐',\n",
              " '😑',\n",
              " '😶',\n",
              " '🫥',\n",
              " '😶\\u200d🌫️',\n",
              " '😏',\n",
              " '😒',\n",
              " '🙄',\n",
              " '😬',\n",
              " '😮\\u200d💨',\n",
              " '🥵',\n",
              " '🤧',\n",
              " '🤮',\n",
              " '🤢',\n",
              " '🤕',\n",
              " '🤒',\n",
              " '😷',\n",
              " '😴',\n",
              " '🤤',\n",
              " '😪',\n",
              " '😔',\n",
              " '😌',\n",
              " '🙂\\u200d↕️',\n",
              " '🙂\\u200d↔️',\n",
              " '\\U0001fae8',\n",
              " '🤥']"
            ]
          },
          "execution_count": 4,
          "metadata": {},
          "output_type": "execute_result"
        }
      ],
      "source": [
        "lista_emojis = [emojize(em) for em in lista_emojis[0].split(' ') if em != '']\n",
        "lista_emojis"
      ]
    },
    {
      "cell_type": "markdown",
      "metadata": {
        "id": "Yo1cK8NYmJW7"
      },
      "source": [
        "# Mesmo aqueles casos que não foram impressos, ainda são reconhecidos pelo pacote"
      ]
    },
    {
      "cell_type": "code",
      "execution_count": 5,
      "metadata": {
        "colab": {
          "base_uri": "https://localhost:8080/"
        },
        "id": "UV5olZ-Li-E_",
        "outputId": "df0b0b29-2b44-4f39-9bde-d6c5d33b610b"
      },
      "outputs": [
        {
          "name": "stdout",
          "output_type": "stream",
          "text": [
            ":rosto_com_linha_pontilhada:\n"
          ]
        }
      ],
      "source": [
        "print(demojize(\"\\U0001fae5\", language='pt'))"
      ]
    },
    {
      "cell_type": "code",
      "execution_count": 6,
      "metadata": {
        "id": "DpHjjTrVmPl6"
      },
      "outputs": [
        {
          "data": {
            "text/plain": [
              "['😀',\n",
              " '😃',\n",
              " '😄',\n",
              " '😁',\n",
              " '😆',\n",
              " '😅',\n",
              " '🤣',\n",
              " '😂',\n",
              " '🙂',\n",
              " '🙃',\n",
              " '🫠',\n",
              " '😉',\n",
              " '😊',\n",
              " '😇',\n",
              " '🥰',\n",
              " '😍',\n",
              " '🤩',\n",
              " '😘',\n",
              " '😗',\n",
              " '😚',\n",
              " '😙',\n",
              " '🥲',\n",
              " '😋',\n",
              " '😛',\n",
              " '😜',\n",
              " '🤪',\n",
              " '😝',\n",
              " '🤑',\n",
              " '🤗',\n",
              " '🤭',\n",
              " '🫢',\n",
              " '🫣',\n",
              " '🤫',\n",
              " '🤔',\n",
              " '🫡',\n",
              " '🤐',\n",
              " '🤨',\n",
              " '😐',\n",
              " '😑',\n",
              " '😶',\n",
              " '🫥',\n",
              " '😶\\u200d🌫️',\n",
              " '😏',\n",
              " '😒',\n",
              " '🙄',\n",
              " '😬',\n",
              " '😮\\u200d💨',\n",
              " '🥵',\n",
              " '🤧',\n",
              " '🤮',\n",
              " '🤢',\n",
              " '🤕',\n",
              " '🤒',\n",
              " '😷',\n",
              " '😴',\n",
              " '🤤',\n",
              " '😪',\n",
              " '😔',\n",
              " '😌',\n",
              " '🙂\\u200d↕️',\n",
              " '🙂\\u200d↔️',\n",
              " '\\U0001fae8',\n",
              " '🤥']"
            ]
          },
          "execution_count": 6,
          "metadata": {},
          "output_type": "execute_result"
        }
      ],
      "source": [
        "lista_emojis"
      ]
    },
    {
      "cell_type": "code",
      "execution_count": 7,
      "metadata": {
        "colab": {
          "base_uri": "https://localhost:8080/"
        },
        "id": "qA55wvKqV6s9",
        "outputId": "13664fca-93c3-4231-b592-175c938948a1"
      },
      "outputs": [
        {
          "data": {
            "text/plain": [
              "[':rosto_risonho:',\n",
              " ':rosto_risonho_com_olhos_bem_abertos:',\n",
              " ':rosto_risonho_com_olhos_sorridentes:',\n",
              " ':rosto_contente_com_olhos_sorridentes:',\n",
              " ':rosto_risonho_com_olhos_semicerrados:',\n",
              " ':rosto_risonho_com_gota_de_suor:',\n",
              " ':rolando_no_chão_de_rir:',\n",
              " ':rosto_chorando_de_rir:',\n",
              " ':rosto_levemente_sorridente:',\n",
              " ':rosto_de_cabeça_para_baixo:',\n",
              " ':rosto_derretendo:',\n",
              " ':rosto_com_olho_piscando:',\n",
              " ':rosto_sorridente_com_olhos_sorridentes:',\n",
              " ':rosto_sorridente_com_auréola:',\n",
              " ':rosto_sorridente_com_3_corações:',\n",
              " ':rosto_sorridente_com_olhos_de_coração:',\n",
              " ':rosto_com_olhar_maravilhado:',\n",
              " ':rosto_mandando_um_beijo:',\n",
              " ':rosto_beijando:',\n",
              " ':rosto_beijando_com_olhos_fechados:',\n",
              " ':rosto_beijando_com_olhos_sorridentes:',\n",
              " ':rosto_sorridente_com_lágrima:',\n",
              " ':rosto_saboreando_comida:',\n",
              " ':rosto_mostrando_a_língua:',\n",
              " ':rosto_piscando_e_com_língua_para_fora:',\n",
              " ':rosto_bizarro:',\n",
              " ':rosto_com_olhos_semicerrados_e_língua_para_fora:',\n",
              " ':rosto_com_cifrões:',\n",
              " ':rosto_abraçando:',\n",
              " ':rosto_com_a_mão_sobre_a_boca:',\n",
              " ':rosto_com_olhos_abertos_e_mão_sobre_a_boca:',\n",
              " ':rosto_com_olho_espiando:',\n",
              " ':rosto_fazendo_sinal_de_silêncio:',\n",
              " ':rosto_pensativo:',\n",
              " ':rosto_saudando:',\n",
              " ':rosto_com_boca_de_zíper:',\n",
              " ':rosto_com_sobrancelha_levantada:',\n",
              " ':rosto_neutro:',\n",
              " ':rosto_inexpressivo:',\n",
              " ':rosto_sem_boca:',\n",
              " ':rosto_com_linha_pontilhada:',\n",
              " ':rosto_sem_boca: \\u200d :nevoeiro:',\n",
              " ':rosto_com_sorriso_maroto:',\n",
              " ':rosto_aborrecido:',\n",
              " ':rosto_com_olhos_revirados:',\n",
              " ':rosto_expressando_desagrado:',\n",
              " ':rosto_com_boca_aberta: \\u200d :rapidez:',\n",
              " ':rosto_fervendo_de_calor:',\n",
              " ':rosto_espirrando:',\n",
              " ':rosto_vomitando:',\n",
              " ':rosto_nauseado:',\n",
              " ':rosto_com_atadura_na_cabeça:',\n",
              " ':rosto_com_termômetro:',\n",
              " ':rosto_com_máscara_médica:',\n",
              " ':rosto_dormindo:',\n",
              " ':rosto_babando:',\n",
              " ':rosto_sonolento:',\n",
              " ':rosto_deprimido:',\n",
              " ':rosto_aliviado:',\n",
              " ':rosto_levemente_sorridente: \\u200d :seta_para_cima_e_para_baixo:',\n",
              " ':rosto_levemente_sorridente: \\u200d :seta_para_esquerda_e_direita:',\n",
              " ':rosto_tremendo:',\n",
              " ':rosto_de_mentiroso:']"
            ]
          },
          "execution_count": 7,
          "metadata": {},
          "output_type": "execute_result"
        }
      ],
      "source": [
        "tokenizer_tweets.demojizer = lambda x: demojize(x, language='pt')\n",
        "lista_emojis_norm = [tokenizer_tweets.normalizeTweet(s) for s in lista_emojis]\n",
        "lista_emojis_norm"
      ]
    },
    {
      "cell_type": "markdown",
      "metadata": {
        "id": "GdO8JncMZrha"
      },
      "source": [
        "# Limpando o texto: removendo :, _, e o que sobrou da codificação"
      ]
    },
    {
      "cell_type": "code",
      "execution_count": 8,
      "metadata": {
        "colab": {
          "base_uri": "https://localhost:8080/"
        },
        "id": "DuOXXlPhZqrl",
        "outputId": "296da6d2-4c01-4b83-98fe-65a0c534b851"
      },
      "outputs": [
        {
          "data": {
            "text/plain": [
              "['rosto risonho',\n",
              " 'rosto risonho com olhos bem abertos',\n",
              " 'rosto risonho com olhos sorridentes',\n",
              " 'rosto contente com olhos sorridentes',\n",
              " 'rosto risonho com olhos semicerrados',\n",
              " 'rosto risonho com gota de suor',\n",
              " 'rolando no chão de rir',\n",
              " 'rosto chorando de rir',\n",
              " 'rosto levemente sorridente',\n",
              " 'rosto de cabeça para baixo',\n",
              " 'rosto derretendo',\n",
              " 'rosto com olho piscando',\n",
              " 'rosto sorridente com olhos sorridentes',\n",
              " 'rosto sorridente com auréola',\n",
              " 'rosto sorridente com 3 corações',\n",
              " 'rosto sorridente com olhos de coração',\n",
              " 'rosto com olhar maravilhado',\n",
              " 'rosto mandando um beijo',\n",
              " 'rosto beijando',\n",
              " 'rosto beijando com olhos fechados',\n",
              " 'rosto beijando com olhos sorridentes',\n",
              " 'rosto sorridente com lágrima',\n",
              " 'rosto saboreando comida',\n",
              " 'rosto mostrando a língua',\n",
              " 'rosto piscando e com língua para fora',\n",
              " 'rosto bizarro',\n",
              " 'rosto com olhos semicerrados e língua para fora',\n",
              " 'rosto com cifrões',\n",
              " 'rosto abraçando',\n",
              " 'rosto com a mão sobre a boca',\n",
              " 'rosto com olhos abertos e mão sobre a boca',\n",
              " 'rosto com olho espiando',\n",
              " 'rosto fazendo sinal de silêncio',\n",
              " 'rosto pensativo',\n",
              " 'rosto saudando',\n",
              " 'rosto com boca de zíper',\n",
              " 'rosto com sobrancelha levantada',\n",
              " 'rosto neutro',\n",
              " 'rosto inexpressivo',\n",
              " 'rosto sem boca',\n",
              " 'rosto com linha pontilhada',\n",
              " 'rosto sem boca nevoeiro',\n",
              " 'rosto com sorriso maroto',\n",
              " 'rosto aborrecido',\n",
              " 'rosto com olhos revirados',\n",
              " 'rosto expressando desagrado',\n",
              " 'rosto com boca aberta rapidez',\n",
              " 'rosto fervendo de calor',\n",
              " 'rosto espirrando',\n",
              " 'rosto vomitando',\n",
              " 'rosto nauseado',\n",
              " 'rosto com atadura na cabeça',\n",
              " 'rosto com termômetro',\n",
              " 'rosto com máscara médica',\n",
              " 'rosto dormindo',\n",
              " 'rosto babando',\n",
              " 'rosto sonolento',\n",
              " 'rosto deprimido',\n",
              " 'rosto aliviado',\n",
              " 'rosto levemente sorridente seta para cima e para baixo',\n",
              " 'rosto levemente sorridente seta para esquerda e direita',\n",
              " 'rosto tremendo',\n",
              " 'rosto de mentiroso']"
            ]
          },
          "execution_count": 8,
          "metadata": {},
          "output_type": "execute_result"
        }
      ],
      "source": [
        "trad = str.maketrans('_:\\u200d', '   ')\n",
        "lista_emojis_clean = [(em.translate(trad).strip().replace('  ','')) for em in lista_emojis_norm]\n",
        "lista_emojis_clean"
      ]
    },
    {
      "cell_type": "code",
      "execution_count": 9,
      "metadata": {
        "id": "miisZq0oTeKJ"
      },
      "outputs": [],
      "source": [
        "tokens_emojis = [tokenizer_tweets(element, return_tensors=\"pt\", padding=False, add_special_tokens=False) for element in lista_emojis_clean]"
      ]
    },
    {
      "cell_type": "code",
      "execution_count": 16,
      "metadata": {},
      "outputs": [
        {
          "name": "stdout",
          "output_type": "stream",
          "text": [
            "tensor([ 1650,  4602, 25384,    22,   912,    81, 11968])\n",
            "{'input_ids': tensor([[ 1650,  4602, 25384,    22,   912,    81, 11968]]), 'token_type_ids': tensor([[0, 0, 0, 0, 0, 0, 0]]), 'attention_mask': tensor([[1, 1, 1, 1, 1, 1, 1]])}\n"
          ]
        }
      ],
      "source": [
        "print(tokens_emojis[1]['input_ids'][0])\n",
        "print(tokens_emojis[1])"
      ]
    },
    {
      "cell_type": "markdown",
      "metadata": {
        "id": "ziDpKppJYMxL"
      },
      "source": [
        "# vendo os tokens de verdade"
      ]
    },
    {
      "cell_type": "code",
      "execution_count": null,
      "metadata": {
        "colab": {
          "base_uri": "https://localhost:8080/"
        },
        "id": "fyV21md6YP7q",
        "outputId": "d0556558-87ab-4e48-9cf0-5de697dd198a"
      },
      "outputs": [
        {
          "name": "stdout",
          "output_type": "stream",
          "text": [
            "[['rosto', 'ris@@', 'onho'], ['rosto', 'ris@@', 'onho', 'com', 'olhos', 'bem', 'abertos'], ['rosto', 'ris@@', 'onho', 'com', 'olhos', 'sorrident@@', 'es'], ['rosto', 'contente', 'com', 'olhos', 'sorrident@@', 'es'], ['rosto', 'ris@@', 'onho', 'com', 'olhos', '<unk>', 'dos'], ['rosto', 'ris@@', 'onho', 'com', 'gota', 'de', 'suor'], ['rolando', 'no', 'chão', 'de', 'rir'], ['rosto', 'chorando', 'de', 'rir'], ['rosto', 'levemente', 'sorridente'], ['rosto', 'de', 'cabeça', 'para', 'baixo'], ['rosto', 'derretendo'], ['rosto', 'com', 'olho', 'piscando'], ['rosto', 'sorridente', 'com', 'olhos', 'sorrident@@', 'es'], ['rosto', 'sorridente', 'com', 'auré@@', 'ola'], ['rosto', 'sorridente', 'com', '3', 'corações'], ['rosto', 'sorridente', 'com', 'olhos', 'de', 'coração'], ['rosto', 'com', 'olhar', 'maravilh@@', 'ado'], ['rosto', 'mandando', 'um', 'beijo'], ['rosto', 'beijando'], ['rosto', 'beijando', 'com', 'olhos', 'fechados'], ['rosto', 'beijando', 'com', 'olhos', 'sorrident@@', 'es'], ['rosto', 'sorridente', 'com', 'lágrima'], ['rosto', 'sabore@@', 'ando', 'comida'], ['rosto', 'mostrando', 'a', 'língua'], ['rosto', 'piscando', 'e', 'com', 'língua', 'para', 'fora'], ['rosto', 'bizarro'], ['rosto', 'com', 'olhos', '<unk>', 'dos', 'e', 'língua', 'para', 'fora'], ['rosto', 'com', 'cifr@@', 'ões'], ['rosto', 'abraçando'], ['rosto', 'com', 'a', 'mão', 'sobre', 'a', 'boca'], ['rosto', 'com', 'olhos', 'abertos', 'e', 'mão', 'sobre', 'a', 'boca'], ['rosto', 'com', 'olho', 'espi@@', 'ando'], ['rosto', 'fazendo', 'sinal', 'de', 'silêncio'], ['rosto', 'pensativo'], ['rosto', 'sau@@', 'dando'], ['rosto', 'com', 'boca', 'de', 'zíper'], ['rosto', 'com', 'sobrancelha', 'levantada'], ['rosto', 'neutro'], ['rosto', 'in@@', 'express@@', 'ivo'], ['rosto', 'sem', 'boca'], ['rosto', 'com', 'linha', 'pon@@', 'ti@@', 'lh@@', 'ada'], ['rosto', 'sem', 'boca', 'ne@@', 'voeiro'], ['rosto', 'com', 'sorriso', 'maroto'], ['rosto', 'aborreci@@', 'do'], ['rosto', 'com', 'olhos', 'revira@@', 'dos'], ['rosto', 'express@@', 'ando', 'desagra@@', 'do'], ['rosto', 'com', 'boca', 'aberta', 'rapidez'], ['rosto', 'fervendo', 'de', 'calor'], ['rosto', 'espirrando'], ['rosto', 'vomitando'], ['rosto', 'nause@@', 'ado'], ['rosto', 'com', 'ata@@', 'dura', 'na', 'cabeça'], ['rosto', 'com', 'termô@@', 'metro'], ['rosto', 'com', 'máscara', 'médica'], ['rosto', 'dormindo'], ['rosto', 'babando'], ['rosto', 'sonol@@', 'ento'], ['rosto', 'deprimido'], ['rosto', 'aliviado'], ['rosto', 'levemente', 'sorridente', 'seta', 'para', 'cima', 'e', 'para', 'baixo'], ['rosto', 'levemente', 'sorridente', 'seta', 'para', 'esquerda', 'e', 'direita'], ['rosto', 'tremendo'], ['rosto', 'de', 'mentiroso']]\n"
          ]
        }
      ],
      "source": [
        "tokens = [tokenizer_tweets.convert_ids_to_tokens(element['input_ids'][0]) for element in tokens_emojis]\n",
        "print(tokens)\n"
      ]
    },
    {
      "cell_type": "code",
      "execution_count": null,
      "metadata": {
        "id": "gvE2XX5fmcVL"
      },
      "outputs": [],
      "source": [
        "# Média dos embeddings, como visto na aula"
      ]
    },
    {
      "cell_type": "code",
      "execution_count": 17,
      "metadata": {
        "id": "tvVpsoY5cSaQ"
      },
      "outputs": [],
      "source": [
        "def mean_pooling(model_output, attention_mask):\n",
        "    token_embeddings = model_output[0] #First element of model_output contains all token embeddings\n",
        "\n",
        "    input_mask_expanded = attention_mask.unsqueeze(-1).expand(token_embeddings.size()).float() #para garantir que a máscara tem o mesmo tamanho do token\n",
        "\n",
        "    return torch.sum(token_embeddings * input_mask_expanded, 1) / torch.clamp(input_mask_expanded.sum(1), min=1e-9)"
      ]
    },
    {
      "cell_type": "markdown",
      "metadata": {
        "id": "nNpR0IEWmfq-"
      },
      "source": [
        "# Agrupando as representações de cada emoji"
      ]
    },
    {
      "cell_type": "code",
      "execution_count": 18,
      "metadata": {
        "id": "fytpBVBScWXo"
      },
      "outputs": [],
      "source": [
        "def get_tensors(model, tokens):\n",
        "  tensores = []\n",
        "  for element in tokens:\n",
        "    with torch.no_grad():\n",
        "      model_output = model(**element)\n",
        "    sentence_embeddings = mean_pooling(model_output, element['attention_mask'])\n",
        "    #print(sentence_embeddings.shape)\n",
        "    tensores.append(sentence_embeddings)\n",
        "  return tensores\n"
      ]
    },
    {
      "cell_type": "code",
      "execution_count": 19,
      "metadata": {
        "colab": {
          "base_uri": "https://localhost:8080/"
        },
        "id": "SyuJzofFsqsD",
        "outputId": "3d4e8baf-7f90-4517-8f6c-4947555aa70b"
      },
      "outputs": [
        {
          "data": {
            "text/plain": [
              "torch.Size([1, 768])"
            ]
          },
          "execution_count": 19,
          "metadata": {},
          "output_type": "execute_result"
        }
      ],
      "source": [
        "tensores = get_tensors(model_tweets, tokens_emojis)\n",
        "tensores[0].shape"
      ]
    },
    {
      "cell_type": "code",
      "execution_count": 20,
      "metadata": {
        "colab": {
          "base_uri": "https://localhost:8080/"
        },
        "id": "arM_hQOkgs68",
        "outputId": "b2e404ed-e275-4f3d-9de4-4055c66c07e5"
      },
      "outputs": [
        {
          "data": {
            "text/plain": [
              "tensor([[-2.1581e-01, -9.6241e-01, -4.0930e-01, -1.3381e+00, -3.6583e-02,\n",
              "          1.1462e+00, -3.0743e-01, -1.3139e+00, -2.6598e-01, -9.8764e-02,\n",
              "         -4.6293e-03,  1.0190e+00, -1.4129e+00,  8.3920e-01,  3.4044e-01,\n",
              "          4.8916e-01,  1.1562e+00, -3.8936e-01,  2.7891e-01, -6.2469e-01,\n",
              "          3.2556e-01,  1.1804e-01,  5.8725e-01, -1.1654e+00, -5.5387e-01,\n",
              "          1.2880e-01, -4.2434e-01,  1.1283e+00,  5.9283e-01,  9.3940e-01,\n",
              "         -1.4954e-01, -5.5540e-01, -1.0901e+00,  9.6663e-01,  1.0158e+00,\n",
              "          5.9148e-02, -1.3266e+00, -8.3508e-01, -1.3012e+00,  5.4733e-01,\n",
              "         -4.7197e-01, -2.4106e-02, -2.8830e-01,  4.9054e-01,  1.6007e+00,\n",
              "         -1.1908e+00, -1.9222e-01, -4.8651e-01, -6.6677e-01,  2.8785e-01,\n",
              "          8.3495e-01,  2.2481e-01, -1.0769e+00,  7.0222e-01, -1.6182e+00,\n",
              "         -6.4994e-01, -9.0319e-01, -1.4069e-01,  8.2357e-01, -6.8636e-02,\n",
              "         -1.2582e+00, -6.3692e-01,  7.5805e-01, -7.4416e-01, -1.3198e+00,\n",
              "          4.2808e-01, -1.3370e-01,  1.2197e-01,  3.8606e-01,  3.5779e-01,\n",
              "         -4.2571e-02, -1.6673e-01,  4.6041e-01, -8.2906e-01,  1.4673e+00,\n",
              "         -4.9763e-01,  5.7514e-01,  8.6880e-01, -3.4576e-01, -4.9449e-01,\n",
              "         -5.6522e-01, -3.1059e-01,  5.6047e-01, -3.3906e-01,  7.9041e-01,\n",
              "          2.4352e+00, -1.4626e-01,  2.0311e-01,  5.5196e-01, -1.5154e+00,\n",
              "          3.1081e-01,  1.1100e+00,  1.1973e-01, -5.4529e-02, -2.7978e-02,\n",
              "          7.4368e-01, -6.2396e-01,  1.4386e+00,  4.6493e-02, -8.9257e-01,\n",
              "         -9.1042e-01, -3.7376e-01, -3.6528e-02, -3.7474e-01, -9.4489e-02,\n",
              "         -2.1303e-01,  1.3319e+00, -7.1338e-01,  1.4761e+00, -1.0539e+00,\n",
              "         -8.0877e-02,  7.5377e-02, -8.0930e-01,  1.0026e+00, -5.0047e-01,\n",
              "          8.4702e-02,  1.0176e+00, -3.1493e-01,  2.1682e-01,  6.2772e-01,\n",
              "          5.1903e-01,  9.2427e-01,  1.9007e-01,  3.8284e-01, -3.3589e-01,\n",
              "         -3.9770e-01,  6.8677e-01,  9.0648e-01,  1.1995e+00, -1.2944e-01,\n",
              "          4.6222e-02, -9.2694e-01, -8.2300e-02,  4.6068e-01,  3.2822e-01,\n",
              "         -1.6135e+00, -5.1974e-01,  1.4538e+00,  8.8814e-01,  8.7288e-01,\n",
              "         -1.0560e+00, -3.3512e-01,  7.4765e-01,  4.5016e-01, -3.2437e-01,\n",
              "         -2.0972e-01,  9.4777e-01, -1.9312e-01,  4.7143e-02,  1.3217e+00,\n",
              "         -2.9333e-01, -5.1408e-01,  3.0708e-01,  5.7966e-01,  1.2556e+00,\n",
              "         -1.4194e-01, -1.2909e+00, -1.2752e+00, -6.9396e-01, -1.3787e-01,\n",
              "          2.7076e-01,  8.0286e-01, -1.0739e+00,  5.6675e-01, -6.6145e-01,\n",
              "          7.9822e-01,  1.1346e+00, -8.9187e-01,  6.6355e-01, -5.7894e-01,\n",
              "         -1.6706e-01, -9.4402e-01, -2.1400e-01, -2.8109e+00, -1.1466e-01,\n",
              "         -1.2371e+00, -5.5538e-01,  6.0254e-01,  8.9214e-01,  1.8689e+00,\n",
              "         -2.2241e+00,  6.4778e-01,  2.8512e-01, -1.0883e+00,  8.4308e-01,\n",
              "          1.9249e+00,  4.8516e-03, -3.7552e-01,  1.9514e-02, -1.2219e+00,\n",
              "         -8.6383e-02, -5.8869e-01,  4.4476e-01,  1.7396e-01,  9.4165e-01,\n",
              "          5.9413e-02, -6.1633e-01,  5.0441e-01,  5.5924e-01, -6.7213e-01,\n",
              "         -3.3176e-01, -8.9155e-01, -6.4990e-01,  9.8009e-01,  1.3075e+00,\n",
              "          6.2925e-01,  1.1194e+00,  2.1063e-01, -6.9172e-01, -4.4777e-01,\n",
              "          2.1873e-01, -1.2359e-01,  7.7677e-02, -6.9408e-01,  2.5994e-01,\n",
              "          8.6078e-01,  1.5956e+00, -1.1315e+00,  1.2786e+00, -2.3262e-01,\n",
              "          2.5162e-01,  5.9327e-01, -9.3059e-02, -1.0361e-01, -2.3367e+00,\n",
              "          4.4241e-01, -3.6140e-01,  1.2061e+00, -1.4190e+00, -3.9818e-01,\n",
              "         -1.0278e+00, -1.6974e+00,  1.2225e+00, -2.5813e-01,  8.1526e-01,\n",
              "          9.5067e-01,  2.0999e+00,  8.3437e-01, -7.1393e-01,  9.5222e-02,\n",
              "         -8.8858e-01, -3.4785e-01, -4.8900e-01, -3.8743e-01,  1.2377e+00,\n",
              "          7.6134e-01, -9.9065e-01, -1.4581e+00, -2.2493e-01,  1.1059e-01,\n",
              "         -4.1667e-02, -3.0741e-01, -5.9775e-01,  2.4318e-02,  1.4715e-01,\n",
              "         -1.2971e+00, -2.4320e-01, -1.4699e+00,  6.8992e-01,  6.4974e-02,\n",
              "         -4.8780e-01,  4.4711e-02, -3.0353e-01,  4.6062e-01, -8.8624e-01,\n",
              "          4.1887e-01, -1.1263e-01,  1.6851e+00, -7.6254e-01,  9.1113e-02,\n",
              "         -4.4505e-01, -1.8126e+00,  1.1604e-01,  1.2588e+00, -4.6480e-01,\n",
              "         -1.5602e-01,  1.3158e+00,  1.9781e-02, -1.2107e+00,  2.2609e-02,\n",
              "         -9.2798e-01, -6.4950e-01,  4.1517e-01,  4.8056e-01,  1.0907e+00,\n",
              "         -1.4375e-01, -2.7711e-02,  1.5429e+00, -4.4599e-01,  2.1322e-01,\n",
              "          1.9184e+00,  8.0043e-01, -9.8661e-01,  5.1955e-01, -1.2834e+00,\n",
              "         -1.1964e-01, -2.5623e-01,  2.0620e+00, -5.7809e-01,  9.4541e-01,\n",
              "         -4.6009e-01,  9.1944e-01,  1.2075e+00, -3.9656e-01,  4.3087e-01,\n",
              "         -3.7675e-01, -1.6127e+00, -8.3597e-02, -6.9346e-01,  4.2158e-01,\n",
              "          9.4081e-01, -4.6145e-01, -1.5939e-01,  4.8683e-02, -3.7591e-01,\n",
              "         -6.3121e-01,  1.1772e-01,  3.3452e-01,  9.3861e-01, -2.4980e-01,\n",
              "          7.5328e-01,  7.6019e-01,  6.1414e-01, -2.2623e-02,  4.9179e-01,\n",
              "         -3.5134e-02,  4.1451e-01, -8.8030e-01,  5.4576e-01, -7.2213e-01,\n",
              "         -3.7456e-02,  3.7509e-02,  7.2090e-02, -1.0165e+00,  1.7844e+00,\n",
              "          8.1510e-01,  6.8353e-01, -4.0809e-01, -1.0052e-01, -7.4291e-01,\n",
              "         -7.6953e-02, -3.8158e-01, -4.2258e-01,  1.0299e+00, -6.8694e-01,\n",
              "          1.4353e+00, -7.5221e-01,  2.5597e-01,  4.9255e-01,  1.8942e-01,\n",
              "          9.4568e-01, -2.1057e+00, -1.3183e+00, -1.8742e+00,  5.3156e-01,\n",
              "          6.3839e-01, -4.4789e-01, -7.1357e-01,  7.7848e-01,  1.5437e+00,\n",
              "          1.1105e+00,  8.8782e-01,  1.8587e-03,  2.0606e-01,  5.4541e-01,\n",
              "          1.3604e+00,  2.1184e-01,  3.0079e-01, -2.5922e-01,  2.2357e+00,\n",
              "          1.6234e-01,  6.6441e-01,  1.3518e+00,  1.2319e+00, -7.2398e-01,\n",
              "          9.0301e-01, -4.2172e-01,  7.9619e-01, -4.0160e-01, -7.4988e-01,\n",
              "         -2.0030e-01,  4.6937e-01,  1.2263e-01,  2.5150e-01, -6.4013e-01,\n",
              "         -5.8386e-01,  2.3079e-01,  1.6332e+00,  6.4162e-01,  6.1195e-01,\n",
              "         -1.0097e+00, -1.3163e+00, -2.1246e-01, -7.1960e-01,  1.2662e+00,\n",
              "         -2.5861e-02, -7.8456e-01, -2.2850e-01, -6.1484e-01, -9.8112e-01,\n",
              "          7.3878e-01,  5.5263e-03,  2.5003e-01, -1.1403e+00, -9.6657e-01,\n",
              "         -6.7369e-01,  6.9469e-01,  1.5602e+00,  1.4018e+00, -1.3115e+00,\n",
              "         -1.0866e+00, -2.3633e-02, -3.5848e-01, -6.4112e-01, -6.2253e-01,\n",
              "          1.4571e-01, -6.1213e-01,  2.9054e-01, -5.0242e-01,  3.4336e-01,\n",
              "          1.9856e-01, -2.5586e-01,  1.0270e-01,  6.2073e-01,  5.8593e-01,\n",
              "         -4.6426e-01, -3.2427e-01, -3.6691e-01,  2.5407e-02, -2.9691e-01,\n",
              "         -5.0828e-02, -5.2672e-01, -6.1998e-01, -4.0363e-01,  1.0608e+00,\n",
              "         -1.0390e+00,  2.0381e+00,  5.6866e-01, -1.2271e+00,  1.3186e-01,\n",
              "          9.4344e-01,  1.2545e-01, -1.3474e+00, -6.3971e-01,  7.8353e-01,\n",
              "          9.0995e-01,  9.5815e-01,  9.3982e-01,  5.4400e-01,  3.3662e-01,\n",
              "          3.6381e-01, -1.2176e+00,  7.3799e-02, -6.0377e-01,  3.4387e-01,\n",
              "         -5.6356e-02, -3.1183e-01, -8.9883e-01, -2.1852e-01,  7.1226e-01,\n",
              "         -1.4469e+00, -1.2429e+00, -5.7267e-01,  2.2707e-01, -4.3534e-01,\n",
              "         -1.3810e+00, -4.5763e-01,  1.6277e-02, -7.9469e-01, -9.4663e-01,\n",
              "         -9.1379e-01, -3.4871e-02, -4.7713e-02, -2.0636e-02,  2.6060e-01,\n",
              "         -8.0048e-01,  1.8315e-03, -6.8840e-01, -1.1913e+00, -5.1529e-01,\n",
              "          1.2135e+00, -8.5432e-01, -2.0207e-01,  5.8357e-01,  1.0816e+00,\n",
              "         -4.6016e-01, -7.4888e-01,  7.0445e-01, -3.0200e-01, -8.6458e-02,\n",
              "         -1.9948e-01, -7.6759e-01,  5.3874e-01,  3.4976e-01,  4.1316e-01,\n",
              "         -9.9461e-01,  1.1058e-01, -8.0741e-01, -3.3857e-02,  1.9658e+00,\n",
              "          5.0899e-01, -1.0472e+00,  3.7294e-01, -1.8748e-01, -4.5799e-01,\n",
              "          1.9720e+00,  1.5605e+00,  1.8986e-01, -2.4090e-01, -1.6930e+00,\n",
              "         -1.0015e+00,  1.2883e-01,  5.9032e-01, -9.9508e-02, -1.0740e-01,\n",
              "          1.3214e+00, -1.5264e-01,  3.0053e-01, -1.8395e+00,  9.2974e-01,\n",
              "         -5.6239e-01, -1.4803e-01,  7.7374e-01,  1.1720e-01, -1.5302e-01,\n",
              "          4.5913e-01,  2.8814e-01, -7.7481e-01,  3.2627e-01,  1.5812e+00,\n",
              "          1.2119e+00, -3.9418e-01,  8.1167e-01, -9.8740e-01, -9.0566e-01,\n",
              "          7.5377e-01,  1.1949e+00,  1.6311e+00,  1.3838e-01, -3.4924e-01,\n",
              "         -7.4136e-01,  5.3332e-01, -1.9046e+00,  1.3532e-01, -4.0727e-01,\n",
              "         -1.3621e+00, -1.3923e+00,  8.1254e-01,  1.6261e-01, -5.7671e-01,\n",
              "          7.7186e-01, -4.1578e-01, -3.4762e-01,  2.1890e+00, -4.6923e-02,\n",
              "          2.6662e-01, -9.0122e-01, -9.1659e-02,  3.3183e-01, -5.5691e-01,\n",
              "         -5.9296e-01, -1.0521e+00,  7.6590e-01, -1.1811e+00,  6.6008e-01,\n",
              "         -8.9505e-01,  2.9534e-01,  1.3727e+00, -3.3306e-01, -1.6967e+00,\n",
              "         -8.9318e-01, -8.5482e-01,  4.4119e-01,  1.4658e+00,  2.7487e+00,\n",
              "         -5.9349e-01, -4.2495e-01, -1.0404e+00,  1.4007e+00, -3.0488e-01,\n",
              "          4.0160e-01,  1.0123e+00,  2.4358e-01, -6.8157e-01,  1.0524e+00,\n",
              "          7.6506e-01, -2.6373e-01,  8.3748e-01, -6.2283e-01, -7.6949e-01,\n",
              "         -1.9224e+00, -2.0879e-01, -5.0928e-01, -2.9986e-01,  5.5802e-01,\n",
              "         -6.9253e-01, -2.2652e-01, -7.9893e-02, -1.0220e+00, -8.6933e-01,\n",
              "         -1.3972e+00,  5.5352e-01,  1.8563e+00, -5.8091e-01, -1.3201e+00,\n",
              "         -4.0715e-01, -3.8058e-01, -9.3908e-02,  5.6546e-01, -2.8322e-01,\n",
              "         -1.2078e+00,  5.5422e-01,  6.5676e-02,  3.5170e-01,  4.8100e-01,\n",
              "         -5.7291e-01,  1.3071e+00, -7.6192e-02, -2.7441e-01, -6.3593e-01,\n",
              "          9.8627e-01, -3.8341e-01,  2.5201e+00,  6.8533e-01,  1.7455e+00,\n",
              "         -8.6845e-01, -1.1218e+00, -9.3597e-01, -5.8148e-01, -4.4541e-01,\n",
              "          2.5166e-02, -1.3307e+00,  8.7619e-01,  6.5134e-01,  1.2093e+00,\n",
              "          2.6303e-01,  1.1450e+00,  7.5048e-01,  2.0362e-01, -7.9193e-01,\n",
              "          8.0104e-01, -1.1782e-01, -4.7240e-01, -7.3396e-01,  1.4143e-01,\n",
              "         -4.8710e-01,  1.3277e-01,  7.4773e-03,  1.0177e-01,  4.1376e-01,\n",
              "          9.8526e-01,  1.5229e+00, -7.9164e-01,  2.1954e-01, -2.2380e-01,\n",
              "         -3.5217e-01,  1.6790e-01, -5.9986e-01, -7.8031e-01, -4.0314e-01,\n",
              "          2.6601e-01,  1.2452e+00,  2.4904e-01,  1.6786e+00, -5.9907e-01,\n",
              "          6.3989e-01,  9.8867e-01, -3.7007e-01,  4.4956e-01,  4.3815e-02,\n",
              "          3.4933e-01, -1.7033e-01,  1.9847e-01, -5.1592e-01,  4.2090e-01,\n",
              "         -4.4631e-01,  5.9832e-01, -1.1865e-01, -4.3679e-01, -7.2198e-01,\n",
              "         -1.6472e+00, -1.2830e-01, -6.8379e-01,  2.0248e-02,  1.0370e+00,\n",
              "         -7.2502e-01,  1.1524e+00, -1.2731e+00,  4.1299e-03, -4.0059e-01,\n",
              "          8.7635e-01,  9.7622e-01,  2.2593e-01,  3.1776e-01,  2.0886e-01,\n",
              "          1.4494e-01, -1.3307e-01, -4.5317e-01,  4.8665e-01,  3.0244e+00,\n",
              "         -5.0184e-01, -1.6455e-01, -3.6187e-01,  7.5444e-02, -2.4232e-01,\n",
              "          1.7744e+00, -2.1784e+00,  5.3251e-01, -1.0855e+00, -5.0179e-02,\n",
              "         -6.4011e-01, -5.9124e-01,  2.9484e-01,  3.0111e-01, -1.1253e+00,\n",
              "         -8.2675e-01,  1.1485e-01,  4.8960e-01, -1.6940e-01, -1.2460e+00,\n",
              "         -6.4911e-01, -4.6076e-01,  4.9818e-01, -3.7234e-01, -1.1112e+00,\n",
              "          4.3853e-01,  1.1696e-01, -3.4235e-01,  1.2603e+00,  9.5741e-01,\n",
              "         -2.0037e-01,  1.3163e+00,  1.7842e+00, -2.4702e-01, -1.6792e+00,\n",
              "         -1.0949e+00, -3.2895e-01,  4.9966e-01, -1.1248e+00,  1.8621e+00,\n",
              "          4.8804e-02,  7.9701e-02,  1.4971e-01,  7.8414e-01,  1.7272e+00,\n",
              "         -5.8730e-01,  8.7710e-01, -1.0232e+00, -7.8812e-01, -1.4161e+00,\n",
              "         -7.4683e-01, -6.5566e-02, -1.7072e+00, -5.2883e-01, -2.9607e-01,\n",
              "         -8.6813e-01, -1.1481e+00, -6.9474e-03,  3.8386e-01,  7.5550e-01,\n",
              "          3.5179e-01,  5.7292e-01, -7.8305e-01,  7.8827e-01,  1.1809e+00,\n",
              "          2.1661e-01, -4.9859e-01,  7.9468e-02]])"
            ]
          },
          "execution_count": 20,
          "metadata": {},
          "output_type": "execute_result"
        }
      ],
      "source": [
        "tensores[1]"
      ]
    },
    {
      "cell_type": "markdown",
      "metadata": {
        "id": "M5_0wBQdNQn9"
      },
      "source": [
        "# Calculando as similaridades"
      ]
    },
    {
      "cell_type": "code",
      "execution_count": 21,
      "metadata": {
        "id": "Wbhe21biMOmR"
      },
      "outputs": [],
      "source": [
        "import torch.nn as nn"
      ]
    },
    {
      "cell_type": "code",
      "execution_count": 22,
      "metadata": {
        "id": "hzcsMHe2MMil"
      },
      "outputs": [],
      "source": [
        "cos = nn.CosineSimilarity(dim=1, eps=1e-6)"
      ]
    },
    {
      "cell_type": "markdown",
      "metadata": {
        "id": "nY4d1N5lmmAM"
      },
      "source": [
        "# Agrupando as similaridades para cada emoji, comparando com todos os demais"
      ]
    },
    {
      "cell_type": "code",
      "execution_count": 23,
      "metadata": {
        "id": "VS-vIv2RYJys"
      },
      "outputs": [],
      "source": [
        "def similaridades(tensores):\n",
        "  dict_similarity = {}\n",
        "  for i in range(len(lista_emojis)):\n",
        "    similares = []\n",
        "    tensor_emo = tensores[i]\n",
        "    emo = lista_emojis[i]\n",
        "    for j in range(len(tensores)):\n",
        "      tensor = tensores[j]\n",
        "      sim = cos(tensor_emo, tensor).item()\n",
        "      similares.append(sim)\n",
        "    dict_similarity[emojize(emo)] = similares\n",
        "  return dict_similarity\n"
      ]
    },
    {
      "cell_type": "markdown",
      "metadata": {
        "id": "SWy1_dXpmvDe"
      },
      "source": [
        "# Abaixo, está uma linha do dicionário acima"
      ]
    },
    {
      "cell_type": "code",
      "execution_count": 24,
      "metadata": {
        "colab": {
          "base_uri": "https://localhost:8080/"
        },
        "id": "_LFfjGR7hDec",
        "outputId": "15f312b8-bd38-4119-db5f-7518ad26d816"
      },
      "outputs": [
        {
          "name": "stdout",
          "output_type": "stream",
          "text": [
            "['😀', '😃', '😄', '😁', '😆', '😅', '🤣', '😂', '🙂', '🙃', '🫠', '😉', '😊', '😇', '🥰', '😍', '🤩', '😘', '😗', '😚', '😙', '🥲', '😋', '😛', '😜', '🤪', '😝', '🤑', '🤗', '🤭', '🫢', '🫣', '🤫', '🤔', '🫡', '🤐', '🤨', '😐', '😑', '😶', '🫥', '😶\\u200d🌫️', '😏', '😒', '🙄', '😬', '😮\\u200d💨', '🥵', '🤧', '🤮', '🤢', '🤕', '🤒', '😷', '😴', '🤤', '😪', '😔', '😌', '🙂\\u200d↕️', '🙂\\u200d↔️', '\\U0001fae8', '🤥']\n",
            "[1.0, 0.8697411417961121, 0.8882134556770325, 0.8391972780227661, 0.896526038646698, 0.8936811089515686, 0.8040975332260132, 0.8544955253601074, 0.8869662284851074, 0.8571670055389404, 0.8046169281005859, 0.8724603652954102, 0.8330433964729309, 0.8486999869346619, 0.823632538318634, 0.8331388235092163, 0.856692910194397, 0.8493203520774841, 0.8278160691261292, 0.8115634918212891, 0.8229944109916687, 0.8335158824920654, 0.8411195278167725, 0.8686220645904541, 0.8408466577529907, 0.8479738235473633, 0.8254997730255127, 0.8307474851608276, 0.8426730632781982, 0.8307941555976868, 0.8216144442558289, 0.8396642208099365, 0.8407567739486694, 0.8500502705574036, 0.8847343921661377, 0.837678074836731, 0.8506794571876526, 0.8666909337043762, 0.8470501899719238, 0.8866626620292664, 0.8319246172904968, 0.847486138343811, 0.8420534133911133, 0.8870056867599487, 0.8199628591537476, 0.8345599174499512, 0.8329905867576599, 0.8497708439826965, 0.8659164905548096, 0.8544363379478455, 0.8816712498664856, 0.8406431078910828, 0.8293651938438416, 0.8457047939300537, 0.8347001075744629, 0.8264117240905762, 0.8892684578895569, 0.8180629014968872, 0.8343462347984314, 0.8162798881530762, 0.8371468186378479, 0.8238313794136047, 0.9111366868019104]\n"
          ]
        }
      ],
      "source": [
        "sims = similaridades(tensores)\n",
        "ems = list(sims.keys())\n",
        "print(ems)\n",
        "print(sims[ems[0]])\n"
      ]
    },
    {
      "cell_type": "code",
      "execution_count": 25,
      "metadata": {
        "colab": {
          "base_uri": "https://localhost:8080/"
        },
        "id": "h3f7raeXR_sn",
        "outputId": "886fd394-cfce-4714-86f9-4b7e8b9ffb04"
      },
      "outputs": [
        {
          "name": "stdout",
          "output_type": "stream",
          "text": [
            "10\n",
            "0 0.8046169281005859\n",
            "1 0.7508841156959534\n",
            "2 0.7478571534156799\n",
            "3 0.7651597857475281\n",
            "4 0.7650097608566284\n",
            "5 0.7565650939941406\n",
            "6 0.7188534140586853\n",
            "7 0.7660096883773804\n",
            "8 0.8208352327346802\n",
            "9 0.7872979044914246\n",
            "10 1.0\n",
            "11 0.7707217931747437\n",
            "12 0.7660970687866211\n",
            "13 0.8028850555419922\n",
            "14 0.7818149328231812\n",
            "15 0.7608845233917236\n",
            "16 0.8077205419540405\n",
            "17 0.7852270603179932\n",
            "18 0.8604915142059326\n",
            "19 0.7453283071517944\n",
            "20 0.7568899989128113\n",
            "21 0.7907475829124451\n",
            "22 0.8150445222854614\n",
            "23 0.7720329761505127\n",
            "24 0.7518256902694702\n",
            "25 0.8635658025741577\n",
            "26 0.7587753534317017\n",
            "27 0.7939335107803345\n",
            "28 0.861217737197876\n",
            "29 0.7469062209129333\n",
            "30 0.751973032951355\n",
            "31 0.7632817029953003\n",
            "32 0.7859705090522766\n",
            "33 0.8835390210151672\n",
            "34 0.8055537343025208\n",
            "35 0.7687176465988159\n",
            "36 0.8170376420021057\n",
            "37 0.8569660186767578\n",
            "38 0.7706930041313171\n",
            "39 0.8369559049606323\n",
            "40 0.7515144944190979\n",
            "41 0.8131816387176514\n",
            "42 0.7768924236297607\n",
            "43 0.8190337419509888\n",
            "44 0.7827361822128296\n",
            "45 0.7588517069816589\n",
            "46 0.796515941619873\n",
            "47 0.7989941835403442\n",
            "48 0.864318311214447\n",
            "49 0.8709759712219238\n",
            "50 0.8441603183746338\n",
            "51 0.7794634699821472\n",
            "52 0.7884010672569275\n",
            "53 0.7878789305686951\n",
            "54 0.8450879454612732\n",
            "55 0.8585004806518555\n",
            "56 0.808348536491394\n",
            "57 0.8610691428184509\n",
            "58 0.851978063583374\n",
            "59 0.7608205676078796\n",
            "60 0.7790719270706177\n",
            "61 0.8561428189277649\n",
            "62 0.8043301701545715\n"
          ]
        }
      ],
      "source": [
        "emoji = ems[10]\n",
        "print(ems.index(emoji))\n",
        "similarity_scores = sims[emoji]\n",
        "for i, score in enumerate(similarity_scores):\n",
        "  print(i,score)"
      ]
    },
    {
      "cell_type": "markdown",
      "metadata": {
        "id": "N9EaLPmFrfnx"
      },
      "source": [
        "# Encontrando emoji que é mais similar a cada emoji"
      ]
    },
    {
      "cell_type": "code",
      "execution_count": 26,
      "metadata": {
        "id": "n5QyFAp5qifd"
      },
      "outputs": [],
      "source": [
        "import numpy as np\n",
        "\n",
        "def most_similar(dict_similarity, emoji, lista_emojis):\n",
        "\n",
        "  similarity_scores = dict_similarity[emoji]\n",
        "  pos = lista_emojis.index(emoji)\n",
        "\n",
        "  max_similarity = -np.inf\n",
        "  most_similar_emoji = None\n",
        "  #print(similarity_scores)\n",
        "  for i, score in enumerate(similarity_scores):\n",
        "    if i == pos:\n",
        "      continue\n",
        "    if score > max_similarity:\n",
        "      max_similarity = score\n",
        "      most_similar_emoji_index = i\n",
        "\n",
        "  keys_list = list(dict_similarity.keys())\n",
        "  most_similar_emoji = keys_list[most_similar_emoji_index]\n",
        "  return most_similar_emoji, max_similarity\n",
        "\n"
      ]
    },
    {
      "cell_type": "code",
      "execution_count": 27,
      "metadata": {
        "colab": {
          "base_uri": "https://localhost:8080/"
        },
        "id": "AG6-aA3SqyOa",
        "outputId": "de818379-6355-4d0f-9e24-b096eb9e01ac"
      },
      "outputs": [
        {
          "name": "stdout",
          "output_type": "stream",
          "text": [
            "Mais similar a  🫠 é 🤔 com similaridade de 0.8835\n",
            "Mais similar a  :rosto_derretendo: é :rosto_pensativo: com similaridade de 0.8835\n"
          ]
        }
      ],
      "source": [
        "# um exemplo\n",
        "emoji = list(sims.keys())[10]\n",
        "most_similar_emoji, similarity_score = most_similar(sims, emoji, ems)\n",
        "\n",
        "if most_similar_emoji:\n",
        "  print(f\"Mais similar a  {emoji} é {most_similar_emoji} com similaridade de {similarity_score:.4f}\")\n",
        "  print(f\"Mais similar a  {demojize(emoji, language='pt')} é {demojize(most_similar_emoji, language='pt')} com similaridade de {similarity_score:.4f}\")\n"
      ]
    },
    {
      "cell_type": "markdown",
      "metadata": {
        "id": "RYSBbIBHtK-G"
      },
      "source": [
        "# Agora para todos"
      ]
    },
    {
      "cell_type": "code",
      "execution_count": 28,
      "metadata": {
        "id": "Jcy94XbztM1z"
      },
      "outputs": [],
      "source": [
        "def print_similares(sims, ems):\n",
        "  emojis = list(sims.keys())\n",
        "  for emoji in emojis:\n",
        "    most_similar_emoji, similarity_score = most_similar(sims, emoji, ems)\n",
        "\n",
        "    if most_similar_emoji:\n",
        "      print(f\"Mais similar a  {emoji} é {most_similar_emoji} com similaridade de {similarity_score:.4f}\")\n",
        "      print(f\"Mais similar a  {demojize(emoji, language='pt')} é {demojize(most_similar_emoji, language='pt')} com similaridade de {similarity_score:.4f}\")\n"
      ]
    },
    {
      "cell_type": "code",
      "execution_count": 29,
      "metadata": {
        "colab": {
          "base_uri": "https://localhost:8080/"
        },
        "id": "fBqLSUxEtd-K",
        "outputId": "0ecb14c6-76b7-49cb-df24-0875ab8656cc"
      },
      "outputs": [
        {
          "name": "stdout",
          "output_type": "stream",
          "text": [
            "Mais similar a  😀 é 🤥 com similaridade de 0.9111\n",
            "Mais similar a  :rosto_risonho: é :rosto_de_mentiroso: com similaridade de 0.9111\n",
            "Mais similar a  😃 é 😄 com similaridade de 0.9695\n",
            "Mais similar a  :rosto_risonho_com_olhos_bem_abertos: é :rosto_risonho_com_olhos_sorridentes: com similaridade de 0.9695\n",
            "Mais similar a  😄 é 😆 com similaridade de 0.9704\n",
            "Mais similar a  :rosto_risonho_com_olhos_sorridentes: é :rosto_risonho_com_olhos_semicerrados: com similaridade de 0.9704\n",
            "Mais similar a  😁 é 😊 com similaridade de 0.9828\n",
            "Mais similar a  :rosto_contente_com_olhos_sorridentes: é :rosto_sorridente_com_olhos_sorridentes: com similaridade de 0.9828\n",
            "Mais similar a  😆 é 😄 com similaridade de 0.9704\n",
            "Mais similar a  :rosto_risonho_com_olhos_semicerrados: é :rosto_risonho_com_olhos_sorridentes: com similaridade de 0.9704\n",
            "Mais similar a  😅 é 😄 com similaridade de 0.9603\n",
            "Mais similar a  :rosto_risonho_com_gota_de_suor: é :rosto_risonho_com_olhos_sorridentes: com similaridade de 0.9603\n",
            "Mais similar a  🤣 é 🙃 com similaridade de 0.9190\n",
            "Mais similar a  :rolando_no_chão_de_rir: é :rosto_de_cabeça_para_baixo: com similaridade de 0.9190\n",
            "Mais similar a  😂 é 🤐 com similaridade de 0.9184\n",
            "Mais similar a  :rosto_chorando_de_rir: é :rosto_com_boca_de_zíper: com similaridade de 0.9184\n",
            "Mais similar a  🙂 é 🫡 com similaridade de 0.9148\n",
            "Mais similar a  :rosto_levemente_sorridente: é :rosto_saudando: com similaridade de 0.9148\n",
            "Mais similar a  🙃 é 🤐 com similaridade de 0.9296\n",
            "Mais similar a  :rosto_de_cabeça_para_baixo: é :rosto_com_boca_de_zíper: com similaridade de 0.9296\n",
            "Mais similar a  🫠 é 🤔 com similaridade de 0.8835\n",
            "Mais similar a  :rosto_derretendo: é :rosto_pensativo: com similaridade de 0.8835\n",
            "Mais similar a  😉 é 🫣 com similaridade de 0.9487\n",
            "Mais similar a  :rosto_com_olho_piscando: é :rosto_com_olho_espiando: com similaridade de 0.9487\n",
            "Mais similar a  😊 é 😁 com similaridade de 0.9828\n",
            "Mais similar a  :rosto_sorridente_com_olhos_sorridentes: é :rosto_contente_com_olhos_sorridentes: com similaridade de 0.9828\n",
            "Mais similar a  😇 é 🥰 com similaridade de 0.9532\n",
            "Mais similar a  :rosto_sorridente_com_auréola: é :rosto_sorridente_com_3_corações: com similaridade de 0.9532\n",
            "Mais similar a  🥰 é 😇 com similaridade de 0.9532\n",
            "Mais similar a  :rosto_sorridente_com_3_corações: é :rosto_sorridente_com_auréola: com similaridade de 0.9532\n",
            "Mais similar a  😍 é 😊 com similaridade de 0.9607\n",
            "Mais similar a  :rosto_sorridente_com_olhos_de_coração: é :rosto_sorridente_com_olhos_sorridentes: com similaridade de 0.9607\n",
            "Mais similar a  🤩 é 😇 com similaridade de 0.9334\n",
            "Mais similar a  :rosto_com_olhar_maravilhado: é :rosto_sorridente_com_auréola: com similaridade de 0.9334\n",
            "Mais similar a  😘 é 😇 com similaridade de 0.9114\n",
            "Mais similar a  :rosto_mandando_um_beijo: é :rosto_sorridente_com_auréola: com similaridade de 0.9114\n",
            "Mais similar a  😗 é 🤔 com similaridade de 0.8980\n",
            "Mais similar a  :rosto_beijando: é :rosto_pensativo: com similaridade de 0.8980\n",
            "Mais similar a  😚 é 😙 com similaridade de 0.9588\n",
            "Mais similar a  :rosto_beijando_com_olhos_fechados: é :rosto_beijando_com_olhos_sorridentes: com similaridade de 0.9588\n",
            "Mais similar a  😙 é 😊 com similaridade de 0.9828\n",
            "Mais similar a  :rosto_beijando_com_olhos_sorridentes: é :rosto_sorridente_com_olhos_sorridentes: com similaridade de 0.9828\n",
            "Mais similar a  🥲 é 🥰 com similaridade de 0.9428\n",
            "Mais similar a  :rosto_sorridente_com_lágrima: é :rosto_sorridente_com_3_corações: com similaridade de 0.9428\n",
            "Mais similar a  😋 é 🫣 com similaridade de 0.9089\n",
            "Mais similar a  :rosto_saboreando_comida: é :rosto_com_olho_espiando: com similaridade de 0.9089\n",
            "Mais similar a  😛 é 😜 com similaridade de 0.9172\n",
            "Mais similar a  :rosto_mostrando_a_língua: é :rosto_piscando_e_com_língua_para_fora: com similaridade de 0.9172\n",
            "Mais similar a  😜 é 😝 com similaridade de 0.9586\n",
            "Mais similar a  :rosto_piscando_e_com_língua_para_fora: é :rosto_com_olhos_semicerrados_e_língua_para_fora: com similaridade de 0.9586\n",
            "Mais similar a  🤪 é 🤔 com similaridade de 0.9099\n",
            "Mais similar a  :rosto_bizarro: é :rosto_pensativo: com similaridade de 0.9099\n",
            "Mais similar a  😝 é 🫢 com similaridade de 0.9654\n",
            "Mais similar a  :rosto_com_olhos_semicerrados_e_língua_para_fora: é :rosto_com_olhos_abertos_e_mão_sobre_a_boca: com similaridade de 0.9654\n",
            "Mais similar a  🤑 é 😷 com similaridade de 0.9330\n",
            "Mais similar a  :rosto_com_cifrões: é :rosto_com_máscara_médica: com similaridade de 0.9330\n",
            "Mais similar a  🤗 é 🤮 com similaridade de 0.9002\n",
            "Mais similar a  :rosto_abraçando: é :rosto_vomitando: com similaridade de 0.9002\n",
            "Mais similar a  🤭 é 🫢 com similaridade de 0.9600\n",
            "Mais similar a  :rosto_com_a_mão_sobre_a_boca: é :rosto_com_olhos_abertos_e_mão_sobre_a_boca: com similaridade de 0.9600\n",
            "Mais similar a  🫢 é 😝 com similaridade de 0.9654\n",
            "Mais similar a  :rosto_com_olhos_abertos_e_mão_sobre_a_boca: é :rosto_com_olhos_semicerrados_e_língua_para_fora: com similaridade de 0.9654\n",
            "Mais similar a  🫣 é 😉 com similaridade de 0.9487\n",
            "Mais similar a  :rosto_com_olho_espiando: é :rosto_com_olho_piscando: com similaridade de 0.9487\n",
            "Mais similar a  🤫 é 🤐 com similaridade de 0.9345\n",
            "Mais similar a  :rosto_fazendo_sinal_de_silêncio: é :rosto_com_boca_de_zíper: com similaridade de 0.9345\n",
            "Mais similar a  🤔 é 🤮 com similaridade de 0.9183\n",
            "Mais similar a  :rosto_pensativo: é :rosto_vomitando: com similaridade de 0.9183\n",
            "Mais similar a  🫡 é 🙂 com similaridade de 0.9148\n",
            "Mais similar a  :rosto_saudando: é :rosto_levemente_sorridente: com similaridade de 0.9148\n",
            "Mais similar a  🤐 é 😮‍💨 com similaridade de 0.9487\n",
            "Mais similar a  :rosto_com_boca_de_zíper: é :rosto_exalando: com similaridade de 0.9487\n",
            "Mais similar a  🤨 é 😏 com similaridade de 0.9397\n",
            "Mais similar a  :rosto_com_sobrancelha_levantada: é :rosto_com_sorriso_maroto: com similaridade de 0.9397\n",
            "Mais similar a  😐 é 🤗 com similaridade de 0.8964\n",
            "Mais similar a  :rosto_neutro: é :rosto_abraçando: com similaridade de 0.8964\n",
            "Mais similar a  😑 é 😘 com similaridade de 0.9007\n",
            "Mais similar a  :rosto_inexpressivo: é :rosto_mandando_um_beijo: com similaridade de 0.9007\n",
            "Mais similar a  😶 é 😶‍🌫️ com similaridade de 0.9257\n",
            "Mais similar a  :rosto_sem_boca: é :rosto_nas_nuvens: com similaridade de 0.9257\n",
            "Mais similar a  🫥 é 😜 com similaridade de 0.9409\n",
            "Mais similar a  :rosto_com_linha_pontilhada: é :rosto_piscando_e_com_língua_para_fora: com similaridade de 0.9409\n",
            "Mais similar a  😶‍🌫️ é 🤐 com similaridade de 0.9335\n",
            "Mais similar a  :rosto_nas_nuvens: é :rosto_com_boca_de_zíper: com similaridade de 0.9335\n",
            "Mais similar a  😏 é 🤨 com similaridade de 0.9397\n",
            "Mais similar a  :rosto_com_sorriso_maroto: é :rosto_com_sobrancelha_levantada: com similaridade de 0.9397\n",
            "Mais similar a  😒 é 🤥 com similaridade de 0.8916\n",
            "Mais similar a  :rosto_aborrecido: é :rosto_de_mentiroso: com similaridade de 0.8916\n",
            "Mais similar a  🙄 é 😚 com similaridade de 0.9436\n",
            "Mais similar a  :rosto_com_olhos_revirados: é :rosto_beijando_com_olhos_fechados: com similaridade de 0.9436\n",
            "Mais similar a  😬 é 🫣 com similaridade de 0.9291\n",
            "Mais similar a  :rosto_expressando_desagrado: é :rosto_com_olho_espiando: com similaridade de 0.9291\n",
            "Mais similar a  😮‍💨 é 🤐 com similaridade de 0.9487\n",
            "Mais similar a  :rosto_exalando: é :rosto_com_boca_de_zíper: com similaridade de 0.9487\n",
            "Mais similar a  🥵 é 🤐 com similaridade de 0.9235\n",
            "Mais similar a  :rosto_fervendo_de_calor: é :rosto_com_boca_de_zíper: com similaridade de 0.9235\n",
            "Mais similar a  🤧 é 🤮 com similaridade de 0.8997\n",
            "Mais similar a  :rosto_espirrando: é :rosto_vomitando: com similaridade de 0.8997\n",
            "Mais similar a  🤮 é 🤔 com similaridade de 0.9183\n",
            "Mais similar a  :rosto_vomitando: é :rosto_pensativo: com similaridade de 0.9183\n",
            "Mais similar a  🤢 é 😶 com similaridade de 0.9136\n",
            "Mais similar a  :rosto_nauseado: é :rosto_sem_boca: com similaridade de 0.9136\n",
            "Mais similar a  🤕 é 😇 com similaridade de 0.9267\n",
            "Mais similar a  :rosto_com_atadura_na_cabeça: é :rosto_sorridente_com_auréola: com similaridade de 0.9267\n",
            "Mais similar a  🤒 é 😷 com similaridade de 0.9328\n",
            "Mais similar a  :rosto_com_termômetro: é :rosto_com_máscara_médica: com similaridade de 0.9328\n",
            "Mais similar a  😷 é 🤑 com similaridade de 0.9330\n",
            "Mais similar a  :rosto_com_máscara_médica: é :rosto_com_cifrões: com similaridade de 0.9330\n",
            "Mais similar a  😴 é 🤔 com similaridade de 0.8912\n",
            "Mais similar a  :rosto_dormindo: é :rosto_pensativo: com similaridade de 0.8912\n",
            "Mais similar a  🤤 é 🤔 com similaridade de 0.9098\n",
            "Mais similar a  :rosto_babando: é :rosto_pensativo: com similaridade de 0.9098\n",
            "Mais similar a  😪 é 🤢 com similaridade de 0.8972\n",
            "Mais similar a  :rosto_sonolento: é :rosto_nauseado: com similaridade de 0.8972\n",
            "Mais similar a  😔 é 🤔 com similaridade de 0.8895\n",
            "Mais similar a  :rosto_deprimido: é :rosto_pensativo: com similaridade de 0.8895\n",
            "Mais similar a  😌 é 🤔 com similaridade de 0.8931\n",
            "Mais similar a  :rosto_aliviado: é :rosto_pensativo: com similaridade de 0.8931\n",
            "Mais similar a  🙂‍↕️ é 🙂‍↔️ com similaridade de 0.9702\n",
            "Mais similar a  :cabeça_balançando_na_vertical: é :cabeça_virando_de_um_lado_para_o_outro: com similaridade de 0.9702\n",
            "Mais similar a  🙂‍↔️ é 🙂‍↕️ com similaridade de 0.9702\n",
            "Mais similar a  :cabeça_virando_de_um_lado_para_o_outro: é :cabeça_balançando_na_vertical: com similaridade de 0.9702\n",
            "Mais similar a  🫨 é 🤔 com similaridade de 0.8756\n",
            "Mais similar a  :rosto_tremendo: é :rosto_pensativo: com similaridade de 0.8756\n",
            "Mais similar a  🤥 é 🙃 com similaridade de 0.9156\n",
            "Mais similar a  :rosto_de_mentiroso: é :rosto_de_cabeça_para_baixo: com similaridade de 0.9156\n"
          ]
        }
      ],
      "source": [
        "print_similares(sims, ems)"
      ]
    },
    {
      "cell_type": "markdown",
      "metadata": {
        "id": "uKB3jUpxrzo4"
      },
      "source": [
        "# **Sua tarefa: considerar o modelo do Bertimbau e comparar os mais similares do BertweetBR com os mais similares do Bertimbau, complentando as células abaixo **"
      ]
    },
    {
      "cell_type": "code",
      "execution_count": 30,
      "metadata": {
        "id": "PosHw1tWqdF2"
      },
      "outputs": [],
      "source": [
        "bertimbau_model = 'neuralmind/bert-base-portuguese-cased'"
      ]
    },
    {
      "cell_type": "code",
      "execution_count": null,
      "metadata": {
        "colab": {
          "base_uri": "https://localhost:8080/"
        },
        "id": "tcjXqkyqrwj6",
        "outputId": "d0572ab1-79a8-4aeb-ae84-78e95f6c7406"
      },
      "outputs": [
        {
          "name": "stderr",
          "output_type": "stream",
          "text": [
            "/usr/local/lib/python3.10/dist-packages/transformers/tokenization_utils_base.py:1601: FutureWarning: `clean_up_tokenization_spaces` was not set. It will be set to `True` by default. This behavior will be depracted in transformers v4.45, and will be then set to `False` by default. For more details check this issue: https://github.com/huggingface/transformers/issues/31884\n",
            "  warnings.warn(\n"
          ]
        }
      ],
      "source": [
        "config_normal # seu código aqui\n",
        "model_normal # seu código aqui\n",
        "tokenizer_normal # seu cósigo aqui"
      ]
    },
    {
      "cell_type": "code",
      "execution_count": null,
      "metadata": {
        "id": "U1LxWZYMuiRv"
      },
      "outputs": [],
      "source": [
        "tokens_emojis_bertimbau # seu codigo aqui"
      ]
    },
    {
      "cell_type": "code",
      "execution_count": null,
      "metadata": {
        "id": "oIihalDFuzBp"
      },
      "outputs": [],
      "source": [
        "tensores_bertimbau  # seu codigo aqui"
      ]
    },
    {
      "cell_type": "code",
      "execution_count": null,
      "metadata": {
        "id": "wDZi76YluIR0"
      },
      "outputs": [],
      "source": [
        "sims_berttweet = sims\n",
        "sims_bertimbau # = seu codigo aqui"
      ]
    },
    {
      "cell_type": "code",
      "execution_count": null,
      "metadata": {
        "id": "9N1-Itu7v1U0"
      },
      "outputs": [],
      "source": [
        "print_similares(sims_bertimbau, ems)"
      ]
    },
    {
      "cell_type": "code",
      "execution_count": null,
      "metadata": {
        "id": "lx1n_ajptmrM"
      },
      "outputs": [],
      "source": [
        "def comparar_similares(sims_berttweet, sims_bertimbau, ems):\n",
        "  emojis = list(sims.keys())\n",
        "  for emoji in emojis:\n",
        "    most_similar_emoji1, sim_score1 = most_similar(sims_berttweet, emoji, ems)\n",
        "    most_similar_emoji2, sim_score2 = most_similar(sims_bertimbau, emoji, ems)\n",
        "\n",
        "    if most_similar_emoji1 and most_similar_emoji2:\n",
        "\n",
        "\n",
        "      if most_similar_emoji1 == most_similar_emoji2:\n",
        "        print(f\"Mais similar a  {emoji} em ambos é {most_similar_emoji1} com diferença de similaridade de {sim_score1:.4f} e {sim_score2:.4f}\")\n",
        "      else:\n",
        "        print(f\"Mais similar a  {emoji} no BERTweetBR é {most_similar_emoji1} com similaridade de {sim_score1:.4f}\")\n",
        "        print(f\"Mais similar a  {emoji} no BERTimbau é {most_similar_emoji2} com similaridade de {sim_score2:.4f}\")\n",
        "\n",
        "\n",
        "\n",
        "    if not most_similar_emoji2:\n",
        "      print(f\"Não tem representação para {emoji} no Bertimbau\")\n",
        "\n",
        "      #print(f\"Mais similar a  {demojize(emoji, language='pt')} é {demojize(most_similar_emoji, language='pt')} com similaridade de {similarity_score:.4f}\")\n"
      ]
    },
    {
      "cell_type": "code",
      "execution_count": null,
      "metadata": {
        "id": "MsUWsrSgOVhz"
      },
      "outputs": [],
      "source": [
        "comparar_similares(sims_berttweet, sims_bertimbau, ems)"
      ]
    },
    {
      "cell_type": "markdown",
      "metadata": {
        "id": "njJdGl47O3tk"
      },
      "source": [
        "# Escolha um subconjunto de 3 iguais e 3 diferentes para julgar se você concorda, e com com qual modelo você mais concorda"
      ]
    },
    {
      "cell_type": "markdown",
      "metadata": {
        "id": "rANMlcXzwgGf"
      },
      "source": [
        "# Extra - para quem não conseguiu fazer a primeira tarefa a tempo: imprimir representações vetoriais dos dois modelos e analisar onde os emojis se concentram em cada um (usar tSNE e adaptar código da primeira tarefa)"
      ]
    },
    {
      "cell_type": "markdown",
      "metadata": {
        "id": "RtP04_5crMXP"
      },
      "source": [
        "# Extra: Emoji em contexto (cenas do próximo capítulo)"
      ]
    },
    {
      "cell_type": "code",
      "execution_count": null,
      "metadata": {
        "id": "Tioa_ndgsyP7"
      },
      "outputs": [],
      "source": [
        "from transformers import pipeline"
      ]
    },
    {
      "cell_type": "code",
      "execution_count": null,
      "metadata": {
        "id": "2OklGq1prPPn"
      },
      "outputs": [],
      "source": [
        " sentences = [\"😞 Hoje estou muito <mask> com meus amigos.\", \"😄 Hoje estou muito <mask> com meus amigos.\"]\n"
      ]
    },
    {
      "cell_type": "code",
      "execution_count": null,
      "metadata": {
        "id": "5A4ea-BKrxL_"
      },
      "outputs": [],
      "source": [
        "model_name_tweets = 'melll-uff/bertweetbr'"
      ]
    },
    {
      "cell_type": "code",
      "execution_count": null,
      "metadata": {
        "colab": {
          "base_uri": "https://localhost:8080/"
        },
        "id": "Sa-IZsdCydH5",
        "outputId": "50f6e00c-843b-48de-8d84-f4d06926885a"
      },
      "outputs": [
        {
          "data": {
            "text/plain": [
              "[':rosto_desapontado: Hoje estou muito <mask> com meus amigos .',\n",
              " ':rosto_risonho_com_olhos_sorridentes: Hoje estou muito <mask> com meus amigos .']"
            ]
          },
          "execution_count": 27,
          "metadata": {},
          "output_type": "execute_result"
        }
      ],
      "source": [
        "tokenizer_tweets.demojizer = lambda x: demojize(x, language='pt')\n",
        "sentences = [tokenizer_tweets.normalizeTweet(s) for s in sentences]\n",
        "sentences\n"
      ]
    },
    {
      "cell_type": "code",
      "execution_count": null,
      "metadata": {
        "colab": {
          "base_uri": "https://localhost:8080/"
        },
        "id": "TueMIlmxrcGh",
        "outputId": "0f22326b-ae96-4218-c60c-85bc1bc14eeb"
      },
      "outputs": [
        {
          "data": {
            "text/plain": [
              "[{'score': 0.28051266074180603,\n",
              "  'token': 0,\n",
              "  'token_str': '<s>',\n",
              "  'sequence': ': rosto_desapontado : Hoje estou muito com meus amigos.'},\n",
              " {'score': 0.05170600861310959,\n",
              "  'token': 16102,\n",
              "  'token_str': 'decepcionado',\n",
              "  'sequence': ': rosto_desapontado : Hoje estou muito decepcionado com meus amigos.'},\n",
              " {'score': 0.03613698482513428,\n",
              "  'token': 9872,\n",
              "  'token_str': 'chateado',\n",
              "  'sequence': ': rosto_desapontado : Hoje estou muito chateado com meus amigos.'},\n",
              " {'score': 0.025580858811736107,\n",
              "  'token': 63025,\n",
              "  'token_str': 'mal-humor@@',\n",
              "  'sequence': ': rosto_desapontado : Hoje estou muito mal-humorcom meus amigos.'},\n",
              " {'score': 0.0193562600761652,\n",
              "  'token': 9109,\n",
              "  'token_str': 'carinhoso',\n",
              "  'sequence': ': rosto_desapontado : Hoje estou muito carinhoso com meus amigos.'}]"
            ]
          },
          "execution_count": 28,
          "metadata": {},
          "output_type": "execute_result"
        }
      ],
      "source": [
        "filler_mask = pipeline(\"fill-mask\", model=model_name_tweets, tokenizer=tokenizer_tweets)\n",
        "filler_mask(sentences[0], top_k=5)"
      ]
    },
    {
      "cell_type": "code",
      "execution_count": null,
      "metadata": {
        "colab": {
          "base_uri": "https://localhost:8080/"
        },
        "id": "m9X8hus5yKGd",
        "outputId": "fa98f518-c44e-4d9b-99cf-895c6cb04e8b"
      },
      "outputs": [
        {
          "data": {
            "text/plain": [
              "[{'score': 0.36735379695892334,\n",
              "  'token': 0,\n",
              "  'token_str': '<s>',\n",
              "  'sequence': ': rosto_o_sorridentes : Hoje estou muito com meus amigos.'},\n",
              " {'score': 0.050454359501600266,\n",
              "  'token': 9411,\n",
              "  'token_str': 'carinhosa',\n",
              "  'sequence': ': rosto_o_sorridentes : Hoje estou muito carinhosa com meus amigos.'},\n",
              " {'score': 0.04997442662715912,\n",
              "  'token': 9109,\n",
              "  'token_str': 'carinhoso',\n",
              "  'sequence': ': rosto_o_sorridentes : Hoje estou muito carinhoso com meus amigos.'},\n",
              " {'score': 0.04132891818881035,\n",
              "  'token': 42024,\n",
              "  'token_str': 'sociável',\n",
              "  'sequence': ': rosto_o_sorridentes : Hoje estou muito sociável com meus amigos.'},\n",
              " {'score': 0.02648341841995716,\n",
              "  'token': 39793,\n",
              "  'token_str': 'atencioso',\n",
              "  'sequence': ': rosto_o_sorridentes : Hoje estou muito atencioso com meus amigos.'}]"
            ]
          },
          "execution_count": 29,
          "metadata": {},
          "output_type": "execute_result"
        }
      ],
      "source": [
        "filler_mask = pipeline(\"fill-mask\", model=model_name_tweets, tokenizer=tokenizer_tweets)\n",
        "filler_mask(sentences[1], top_k=5)"
      ]
    }
  ],
  "metadata": {
    "colab": {
      "provenance": []
    },
    "kernelspec": {
      "display_name": "Python 3",
      "name": "python3"
    },
    "language_info": {
      "codemirror_mode": {
        "name": "ipython",
        "version": 3
      },
      "file_extension": ".py",
      "mimetype": "text/x-python",
      "name": "python",
      "nbconvert_exporter": "python",
      "pygments_lexer": "ipython3",
      "version": "3.11.0"
    },
    "widgets": {
      "application/vnd.jupyter.widget-state+json": {
        "01cf4983a12d4f059de5c426dbd39ba4": {
          "model_module": "@jupyter-widgets/controls",
          "model_module_version": "1.5.0",
          "model_name": "HTMLModel",
          "state": {
            "_dom_classes": [],
            "_model_module": "@jupyter-widgets/controls",
            "_model_module_version": "1.5.0",
            "_model_name": "HTMLModel",
            "_view_count": null,
            "_view_module": "@jupyter-widgets/controls",
            "_view_module_version": "1.5.0",
            "_view_name": "HTMLView",
            "description": "",
            "description_tooltip": null,
            "layout": "IPY_MODEL_3fab86bb34904ac8acd69a71308b55d3",
            "placeholder": "​",
            "style": "IPY_MODEL_176460e5ad104a1fbda56f38e37e392b",
            "value": " 801/801 [00:00&lt;00:00, 48.9kB/s]"
          }
        },
        "06db060107284459ab6654c33b537f4f": {
          "model_module": "@jupyter-widgets/base",
          "model_module_version": "1.2.0",
          "model_name": "LayoutModel",
          "state": {
            "_model_module": "@jupyter-widgets/base",
            "_model_module_version": "1.2.0",
            "_model_name": "LayoutModel",
            "_view_count": null,
            "_view_module": "@jupyter-widgets/base",
            "_view_module_version": "1.2.0",
            "_view_name": "LayoutView",
            "align_content": null,
            "align_items": null,
            "align_self": null,
            "border": null,
            "bottom": null,
            "display": null,
            "flex": null,
            "flex_flow": null,
            "grid_area": null,
            "grid_auto_columns": null,
            "grid_auto_flow": null,
            "grid_auto_rows": null,
            "grid_column": null,
            "grid_gap": null,
            "grid_row": null,
            "grid_template_areas": null,
            "grid_template_columns": null,
            "grid_template_rows": null,
            "height": null,
            "justify_content": null,
            "justify_items": null,
            "left": null,
            "margin": null,
            "max_height": null,
            "max_width": null,
            "min_height": null,
            "min_width": null,
            "object_fit": null,
            "object_position": null,
            "order": null,
            "overflow": null,
            "overflow_x": null,
            "overflow_y": null,
            "padding": null,
            "right": null,
            "top": null,
            "visibility": null,
            "width": null
          }
        },
        "07e2cebfc41a495e8e6460e06e37a6d6": {
          "model_module": "@jupyter-widgets/controls",
          "model_module_version": "1.5.0",
          "model_name": "ProgressStyleModel",
          "state": {
            "_model_module": "@jupyter-widgets/controls",
            "_model_module_version": "1.5.0",
            "_model_name": "ProgressStyleModel",
            "_view_count": null,
            "_view_module": "@jupyter-widgets/base",
            "_view_module_version": "1.2.0",
            "_view_name": "StyleView",
            "bar_color": null,
            "description_width": ""
          }
        },
        "08650da4e6d04433801d4194b0b6ccee": {
          "model_module": "@jupyter-widgets/base",
          "model_module_version": "1.2.0",
          "model_name": "LayoutModel",
          "state": {
            "_model_module": "@jupyter-widgets/base",
            "_model_module_version": "1.2.0",
            "_model_name": "LayoutModel",
            "_view_count": null,
            "_view_module": "@jupyter-widgets/base",
            "_view_module_version": "1.2.0",
            "_view_name": "LayoutView",
            "align_content": null,
            "align_items": null,
            "align_self": null,
            "border": null,
            "bottom": null,
            "display": null,
            "flex": null,
            "flex_flow": null,
            "grid_area": null,
            "grid_auto_columns": null,
            "grid_auto_flow": null,
            "grid_auto_rows": null,
            "grid_column": null,
            "grid_gap": null,
            "grid_row": null,
            "grid_template_areas": null,
            "grid_template_columns": null,
            "grid_template_rows": null,
            "height": null,
            "justify_content": null,
            "justify_items": null,
            "left": null,
            "margin": null,
            "max_height": null,
            "max_width": null,
            "min_height": null,
            "min_width": null,
            "object_fit": null,
            "object_position": null,
            "order": null,
            "overflow": null,
            "overflow_x": null,
            "overflow_y": null,
            "padding": null,
            "right": null,
            "top": null,
            "visibility": null,
            "width": null
          }
        },
        "0901085111694c609e342a86f264fb17": {
          "model_module": "@jupyter-widgets/base",
          "model_module_version": "1.2.0",
          "model_name": "LayoutModel",
          "state": {
            "_model_module": "@jupyter-widgets/base",
            "_model_module_version": "1.2.0",
            "_model_name": "LayoutModel",
            "_view_count": null,
            "_view_module": "@jupyter-widgets/base",
            "_view_module_version": "1.2.0",
            "_view_name": "LayoutView",
            "align_content": null,
            "align_items": null,
            "align_self": null,
            "border": null,
            "bottom": null,
            "display": null,
            "flex": null,
            "flex_flow": null,
            "grid_area": null,
            "grid_auto_columns": null,
            "grid_auto_flow": null,
            "grid_auto_rows": null,
            "grid_column": null,
            "grid_gap": null,
            "grid_row": null,
            "grid_template_areas": null,
            "grid_template_columns": null,
            "grid_template_rows": null,
            "height": null,
            "justify_content": null,
            "justify_items": null,
            "left": null,
            "margin": null,
            "max_height": null,
            "max_width": null,
            "min_height": null,
            "min_width": null,
            "object_fit": null,
            "object_position": null,
            "order": null,
            "overflow": null,
            "overflow_x": null,
            "overflow_y": null,
            "padding": null,
            "right": null,
            "top": null,
            "visibility": null,
            "width": null
          }
        },
        "0f131622a609400cb0787ef73c8d292f": {
          "model_module": "@jupyter-widgets/controls",
          "model_module_version": "1.5.0",
          "model_name": "DescriptionStyleModel",
          "state": {
            "_model_module": "@jupyter-widgets/controls",
            "_model_module_version": "1.5.0",
            "_model_name": "DescriptionStyleModel",
            "_view_count": null,
            "_view_module": "@jupyter-widgets/base",
            "_view_module_version": "1.2.0",
            "_view_name": "StyleView",
            "description_width": ""
          }
        },
        "109e6c404db046dc949c7623b3de13b6": {
          "model_module": "@jupyter-widgets/controls",
          "model_module_version": "1.5.0",
          "model_name": "DescriptionStyleModel",
          "state": {
            "_model_module": "@jupyter-widgets/controls",
            "_model_module_version": "1.5.0",
            "_model_name": "DescriptionStyleModel",
            "_view_count": null,
            "_view_module": "@jupyter-widgets/base",
            "_view_module_version": "1.2.0",
            "_view_name": "StyleView",
            "description_width": ""
          }
        },
        "10b1626ab83a42e19a5f34368f4019fe": {
          "model_module": "@jupyter-widgets/controls",
          "model_module_version": "1.5.0",
          "model_name": "ProgressStyleModel",
          "state": {
            "_model_module": "@jupyter-widgets/controls",
            "_model_module_version": "1.5.0",
            "_model_name": "ProgressStyleModel",
            "_view_count": null,
            "_view_module": "@jupyter-widgets/base",
            "_view_module_version": "1.2.0",
            "_view_name": "StyleView",
            "bar_color": null,
            "description_width": ""
          }
        },
        "1153418325174c7da5f95d1901f3f8eb": {
          "model_module": "@jupyter-widgets/base",
          "model_module_version": "1.2.0",
          "model_name": "LayoutModel",
          "state": {
            "_model_module": "@jupyter-widgets/base",
            "_model_module_version": "1.2.0",
            "_model_name": "LayoutModel",
            "_view_count": null,
            "_view_module": "@jupyter-widgets/base",
            "_view_module_version": "1.2.0",
            "_view_name": "LayoutView",
            "align_content": null,
            "align_items": null,
            "align_self": null,
            "border": null,
            "bottom": null,
            "display": null,
            "flex": null,
            "flex_flow": null,
            "grid_area": null,
            "grid_auto_columns": null,
            "grid_auto_flow": null,
            "grid_auto_rows": null,
            "grid_column": null,
            "grid_gap": null,
            "grid_row": null,
            "grid_template_areas": null,
            "grid_template_columns": null,
            "grid_template_rows": null,
            "height": null,
            "justify_content": null,
            "justify_items": null,
            "left": null,
            "margin": null,
            "max_height": null,
            "max_width": null,
            "min_height": null,
            "min_width": null,
            "object_fit": null,
            "object_position": null,
            "order": null,
            "overflow": null,
            "overflow_x": null,
            "overflow_y": null,
            "padding": null,
            "right": null,
            "top": null,
            "visibility": null,
            "width": null
          }
        },
        "176460e5ad104a1fbda56f38e37e392b": {
          "model_module": "@jupyter-widgets/controls",
          "model_module_version": "1.5.0",
          "model_name": "DescriptionStyleModel",
          "state": {
            "_model_module": "@jupyter-widgets/controls",
            "_model_module_version": "1.5.0",
            "_model_name": "DescriptionStyleModel",
            "_view_count": null,
            "_view_module": "@jupyter-widgets/base",
            "_view_module_version": "1.2.0",
            "_view_name": "StyleView",
            "description_width": ""
          }
        },
        "19921a1dfb9f4aa29f87d22698e962ae": {
          "model_module": "@jupyter-widgets/base",
          "model_module_version": "1.2.0",
          "model_name": "LayoutModel",
          "state": {
            "_model_module": "@jupyter-widgets/base",
            "_model_module_version": "1.2.0",
            "_model_name": "LayoutModel",
            "_view_count": null,
            "_view_module": "@jupyter-widgets/base",
            "_view_module_version": "1.2.0",
            "_view_name": "LayoutView",
            "align_content": null,
            "align_items": null,
            "align_self": null,
            "border": null,
            "bottom": null,
            "display": null,
            "flex": null,
            "flex_flow": null,
            "grid_area": null,
            "grid_auto_columns": null,
            "grid_auto_flow": null,
            "grid_auto_rows": null,
            "grid_column": null,
            "grid_gap": null,
            "grid_row": null,
            "grid_template_areas": null,
            "grid_template_columns": null,
            "grid_template_rows": null,
            "height": null,
            "justify_content": null,
            "justify_items": null,
            "left": null,
            "margin": null,
            "max_height": null,
            "max_width": null,
            "min_height": null,
            "min_width": null,
            "object_fit": null,
            "object_position": null,
            "order": null,
            "overflow": null,
            "overflow_x": null,
            "overflow_y": null,
            "padding": null,
            "right": null,
            "top": null,
            "visibility": null,
            "width": null
          }
        },
        "1c3a6603e1af437593cdec3ebe9686b3": {
          "model_module": "@jupyter-widgets/base",
          "model_module_version": "1.2.0",
          "model_name": "LayoutModel",
          "state": {
            "_model_module": "@jupyter-widgets/base",
            "_model_module_version": "1.2.0",
            "_model_name": "LayoutModel",
            "_view_count": null,
            "_view_module": "@jupyter-widgets/base",
            "_view_module_version": "1.2.0",
            "_view_name": "LayoutView",
            "align_content": null,
            "align_items": null,
            "align_self": null,
            "border": null,
            "bottom": null,
            "display": null,
            "flex": null,
            "flex_flow": null,
            "grid_area": null,
            "grid_auto_columns": null,
            "grid_auto_flow": null,
            "grid_auto_rows": null,
            "grid_column": null,
            "grid_gap": null,
            "grid_row": null,
            "grid_template_areas": null,
            "grid_template_columns": null,
            "grid_template_rows": null,
            "height": null,
            "justify_content": null,
            "justify_items": null,
            "left": null,
            "margin": null,
            "max_height": null,
            "max_width": null,
            "min_height": null,
            "min_width": null,
            "object_fit": null,
            "object_position": null,
            "order": null,
            "overflow": null,
            "overflow_x": null,
            "overflow_y": null,
            "padding": null,
            "right": null,
            "top": null,
            "visibility": null,
            "width": null
          }
        },
        "2676e87b661245458158d77e1620d1ba": {
          "model_module": "@jupyter-widgets/controls",
          "model_module_version": "1.5.0",
          "model_name": "HTMLModel",
          "state": {
            "_dom_classes": [],
            "_model_module": "@jupyter-widgets/controls",
            "_model_module_version": "1.5.0",
            "_model_name": "HTMLModel",
            "_view_count": null,
            "_view_module": "@jupyter-widgets/controls",
            "_view_module_version": "1.5.0",
            "_view_name": "HTMLView",
            "description": "",
            "description_tooltip": null,
            "layout": "IPY_MODEL_f79d50a4746842e8ba0cffe403f97ce4",
            "placeholder": "​",
            "style": "IPY_MODEL_109e6c404db046dc949c7623b3de13b6",
            "value": " 506/506 [00:00&lt;00:00, 22.2kB/s]"
          }
        },
        "267ef0e526694127a7587903465ebd56": {
          "model_module": "@jupyter-widgets/controls",
          "model_module_version": "1.5.0",
          "model_name": "DescriptionStyleModel",
          "state": {
            "_model_module": "@jupyter-widgets/controls",
            "_model_module_version": "1.5.0",
            "_model_name": "DescriptionStyleModel",
            "_view_count": null,
            "_view_module": "@jupyter-widgets/base",
            "_view_module_version": "1.2.0",
            "_view_name": "StyleView",
            "description_width": ""
          }
        },
        "2a7188bda1704027a3bd4c8faba2dc04": {
          "model_module": "@jupyter-widgets/controls",
          "model_module_version": "1.5.0",
          "model_name": "HTMLModel",
          "state": {
            "_dom_classes": [],
            "_model_module": "@jupyter-widgets/controls",
            "_model_module_version": "1.5.0",
            "_model_name": "HTMLModel",
            "_view_count": null,
            "_view_module": "@jupyter-widgets/controls",
            "_view_module_version": "1.5.0",
            "_view_name": "HTMLView",
            "description": "",
            "description_tooltip": null,
            "layout": "IPY_MODEL_a6ec6fad1e5045cdbf57bf6bc1879ecf",
            "placeholder": "​",
            "style": "IPY_MODEL_6ca91100efa94e20a753e59aee688a21",
            "value": " 1.04M/1.04M [00:00&lt;00:00, 1.32MB/s]"
          }
        },
        "33d5b985a02c40be828028138a92ba3b": {
          "model_module": "@jupyter-widgets/base",
          "model_module_version": "1.2.0",
          "model_name": "LayoutModel",
          "state": {
            "_model_module": "@jupyter-widgets/base",
            "_model_module_version": "1.2.0",
            "_model_name": "LayoutModel",
            "_view_count": null,
            "_view_module": "@jupyter-widgets/base",
            "_view_module_version": "1.2.0",
            "_view_name": "LayoutView",
            "align_content": null,
            "align_items": null,
            "align_self": null,
            "border": null,
            "bottom": null,
            "display": null,
            "flex": null,
            "flex_flow": null,
            "grid_area": null,
            "grid_auto_columns": null,
            "grid_auto_flow": null,
            "grid_auto_rows": null,
            "grid_column": null,
            "grid_gap": null,
            "grid_row": null,
            "grid_template_areas": null,
            "grid_template_columns": null,
            "grid_template_rows": null,
            "height": null,
            "justify_content": null,
            "justify_items": null,
            "left": null,
            "margin": null,
            "max_height": null,
            "max_width": null,
            "min_height": null,
            "min_width": null,
            "object_fit": null,
            "object_position": null,
            "order": null,
            "overflow": null,
            "overflow_x": null,
            "overflow_y": null,
            "padding": null,
            "right": null,
            "top": null,
            "visibility": null,
            "width": null
          }
        },
        "377f517913c440f79e753887d8aab89d": {
          "model_module": "@jupyter-widgets/controls",
          "model_module_version": "1.5.0",
          "model_name": "FloatProgressModel",
          "state": {
            "_dom_classes": [],
            "_model_module": "@jupyter-widgets/controls",
            "_model_module_version": "1.5.0",
            "_model_name": "FloatProgressModel",
            "_view_count": null,
            "_view_module": "@jupyter-widgets/controls",
            "_view_module_version": "1.5.0",
            "_view_name": "ProgressView",
            "bar_style": "success",
            "description": "",
            "description_tooltip": null,
            "layout": "IPY_MODEL_cdf90f1a8d6e487a82adf1eeb5427e0e",
            "max": 799173,
            "min": 0,
            "orientation": "horizontal",
            "style": "IPY_MODEL_750737f81ed845a6b9698ec92bbe2a04",
            "value": 799173
          }
        },
        "3840aa2d6184476cae38a635b74a4fa0": {
          "model_module": "@jupyter-widgets/controls",
          "model_module_version": "1.5.0",
          "model_name": "HTMLModel",
          "state": {
            "_dom_classes": [],
            "_model_module": "@jupyter-widgets/controls",
            "_model_module_version": "1.5.0",
            "_model_name": "HTMLModel",
            "_view_count": null,
            "_view_module": "@jupyter-widgets/controls",
            "_view_module_version": "1.5.0",
            "_view_name": "HTMLView",
            "description": "",
            "description_tooltip": null,
            "layout": "IPY_MODEL_8d15a689c6a94a1698466b12a501aa2e",
            "placeholder": "​",
            "style": "IPY_MODEL_e0daa5ec29da4cef944fb95c81b1b0de",
            "value": "bpe.codes: 100%"
          }
        },
        "3a5778f51f514cd7adeee7da31994b39": {
          "model_module": "@jupyter-widgets/controls",
          "model_module_version": "1.5.0",
          "model_name": "ProgressStyleModel",
          "state": {
            "_model_module": "@jupyter-widgets/controls",
            "_model_module_version": "1.5.0",
            "_model_name": "ProgressStyleModel",
            "_view_count": null,
            "_view_module": "@jupyter-widgets/base",
            "_view_module_version": "1.2.0",
            "_view_name": "StyleView",
            "bar_color": null,
            "description_width": ""
          }
        },
        "3c82b45b1ccf46b7a7ba4e944f3a9406": {
          "model_module": "@jupyter-widgets/base",
          "model_module_version": "1.2.0",
          "model_name": "LayoutModel",
          "state": {
            "_model_module": "@jupyter-widgets/base",
            "_model_module_version": "1.2.0",
            "_model_name": "LayoutModel",
            "_view_count": null,
            "_view_module": "@jupyter-widgets/base",
            "_view_module_version": "1.2.0",
            "_view_name": "LayoutView",
            "align_content": null,
            "align_items": null,
            "align_self": null,
            "border": null,
            "bottom": null,
            "display": null,
            "flex": null,
            "flex_flow": null,
            "grid_area": null,
            "grid_auto_columns": null,
            "grid_auto_flow": null,
            "grid_auto_rows": null,
            "grid_column": null,
            "grid_gap": null,
            "grid_row": null,
            "grid_template_areas": null,
            "grid_template_columns": null,
            "grid_template_rows": null,
            "height": null,
            "justify_content": null,
            "justify_items": null,
            "left": null,
            "margin": null,
            "max_height": null,
            "max_width": null,
            "min_height": null,
            "min_width": null,
            "object_fit": null,
            "object_position": null,
            "order": null,
            "overflow": null,
            "overflow_x": null,
            "overflow_y": null,
            "padding": null,
            "right": null,
            "top": null,
            "visibility": null,
            "width": null
          }
        },
        "3eadff92d31d4298a2c70b8ebfed70fe": {
          "model_module": "@jupyter-widgets/controls",
          "model_module_version": "1.5.0",
          "model_name": "HTMLModel",
          "state": {
            "_dom_classes": [],
            "_model_module": "@jupyter-widgets/controls",
            "_model_module_version": "1.5.0",
            "_model_name": "HTMLModel",
            "_view_count": null,
            "_view_module": "@jupyter-widgets/controls",
            "_view_module_version": "1.5.0",
            "_view_name": "HTMLView",
            "description": "",
            "description_tooltip": null,
            "layout": "IPY_MODEL_0901085111694c609e342a86f264fb17",
            "placeholder": "​",
            "style": "IPY_MODEL_b42fdc0dbb2c489cbdc47cef40a5ad9a",
            "value": " 17.0/17.0 [00:00&lt;00:00, 910B/s]"
          }
        },
        "3fab86bb34904ac8acd69a71308b55d3": {
          "model_module": "@jupyter-widgets/base",
          "model_module_version": "1.2.0",
          "model_name": "LayoutModel",
          "state": {
            "_model_module": "@jupyter-widgets/base",
            "_model_module_version": "1.2.0",
            "_model_name": "LayoutModel",
            "_view_count": null,
            "_view_module": "@jupyter-widgets/base",
            "_view_module_version": "1.2.0",
            "_view_name": "LayoutView",
            "align_content": null,
            "align_items": null,
            "align_self": null,
            "border": null,
            "bottom": null,
            "display": null,
            "flex": null,
            "flex_flow": null,
            "grid_area": null,
            "grid_auto_columns": null,
            "grid_auto_flow": null,
            "grid_auto_rows": null,
            "grid_column": null,
            "grid_gap": null,
            "grid_row": null,
            "grid_template_areas": null,
            "grid_template_columns": null,
            "grid_template_rows": null,
            "height": null,
            "justify_content": null,
            "justify_items": null,
            "left": null,
            "margin": null,
            "max_height": null,
            "max_width": null,
            "min_height": null,
            "min_width": null,
            "object_fit": null,
            "object_position": null,
            "order": null,
            "overflow": null,
            "overflow_x": null,
            "overflow_y": null,
            "padding": null,
            "right": null,
            "top": null,
            "visibility": null,
            "width": null
          }
        },
        "410c2955407142038e0c3319126db989": {
          "model_module": "@jupyter-widgets/controls",
          "model_module_version": "1.5.0",
          "model_name": "DescriptionStyleModel",
          "state": {
            "_model_module": "@jupyter-widgets/controls",
            "_model_module_version": "1.5.0",
            "_model_name": "DescriptionStyleModel",
            "_view_count": null,
            "_view_module": "@jupyter-widgets/base",
            "_view_module_version": "1.2.0",
            "_view_name": "StyleView",
            "description_width": ""
          }
        },
        "415002058e554acdaf47580391b08ed0": {
          "model_module": "@jupyter-widgets/controls",
          "model_module_version": "1.5.0",
          "model_name": "FloatProgressModel",
          "state": {
            "_dom_classes": [],
            "_model_module": "@jupyter-widgets/controls",
            "_model_module_version": "1.5.0",
            "_model_name": "FloatProgressModel",
            "_view_count": null,
            "_view_module": "@jupyter-widgets/controls",
            "_view_module_version": "1.5.0",
            "_view_name": "ProgressView",
            "bar_style": "success",
            "description": "",
            "description_tooltip": null,
            "layout": "IPY_MODEL_1153418325174c7da5f95d1901f3f8eb",
            "max": 150,
            "min": 0,
            "orientation": "horizontal",
            "style": "IPY_MODEL_e13cf874479943f8bc5d08de771c388d",
            "value": 150
          }
        },
        "4322c432a6654e29af8354876d5fcbad": {
          "model_module": "@jupyter-widgets/controls",
          "model_module_version": "1.5.0",
          "model_name": "HTMLModel",
          "state": {
            "_dom_classes": [],
            "_model_module": "@jupyter-widgets/controls",
            "_model_module_version": "1.5.0",
            "_model_name": "HTMLModel",
            "_view_count": null,
            "_view_module": "@jupyter-widgets/controls",
            "_view_module_version": "1.5.0",
            "_view_name": "HTMLView",
            "description": "",
            "description_tooltip": null,
            "layout": "IPY_MODEL_adeb1e28f7cd4ffdb9d745ddac2331e2",
            "placeholder": "​",
            "style": "IPY_MODEL_c4619b5aff164252a3851fa58b54efbe",
            "value": "vocab.txt: 100%"
          }
        },
        "53e1ddc4efa940acae75a25ffa5de193": {
          "model_module": "@jupyter-widgets/controls",
          "model_module_version": "1.5.0",
          "model_name": "DescriptionStyleModel",
          "state": {
            "_model_module": "@jupyter-widgets/controls",
            "_model_module_version": "1.5.0",
            "_model_name": "DescriptionStyleModel",
            "_view_count": null,
            "_view_module": "@jupyter-widgets/base",
            "_view_module_version": "1.2.0",
            "_view_name": "StyleView",
            "description_width": ""
          }
        },
        "543908cddcda459d9c4441654d3a6d10": {
          "model_module": "@jupyter-widgets/controls",
          "model_module_version": "1.5.0",
          "model_name": "HBoxModel",
          "state": {
            "_dom_classes": [],
            "_model_module": "@jupyter-widgets/controls",
            "_model_module_version": "1.5.0",
            "_model_name": "HBoxModel",
            "_view_count": null,
            "_view_module": "@jupyter-widgets/controls",
            "_view_module_version": "1.5.0",
            "_view_name": "HBoxView",
            "box_style": "",
            "children": [
              "IPY_MODEL_3840aa2d6184476cae38a635b74a4fa0",
              "IPY_MODEL_d21e2bd3e69c4df3b8cd873945e07bb6",
              "IPY_MODEL_2a7188bda1704027a3bd4c8faba2dc04"
            ],
            "layout": "IPY_MODEL_08650da4e6d04433801d4194b0b6ccee"
          }
        },
        "54a7f8c03c37423ab38d5b0ccba02606": {
          "model_module": "@jupyter-widgets/base",
          "model_module_version": "1.2.0",
          "model_name": "LayoutModel",
          "state": {
            "_model_module": "@jupyter-widgets/base",
            "_model_module_version": "1.2.0",
            "_model_name": "LayoutModel",
            "_view_count": null,
            "_view_module": "@jupyter-widgets/base",
            "_view_module_version": "1.2.0",
            "_view_name": "LayoutView",
            "align_content": null,
            "align_items": null,
            "align_self": null,
            "border": null,
            "bottom": null,
            "display": null,
            "flex": null,
            "flex_flow": null,
            "grid_area": null,
            "grid_auto_columns": null,
            "grid_auto_flow": null,
            "grid_auto_rows": null,
            "grid_column": null,
            "grid_gap": null,
            "grid_row": null,
            "grid_template_areas": null,
            "grid_template_columns": null,
            "grid_template_rows": null,
            "height": null,
            "justify_content": null,
            "justify_items": null,
            "left": null,
            "margin": null,
            "max_height": null,
            "max_width": null,
            "min_height": null,
            "min_width": null,
            "object_fit": null,
            "object_position": null,
            "order": null,
            "overflow": null,
            "overflow_x": null,
            "overflow_y": null,
            "padding": null,
            "right": null,
            "top": null,
            "visibility": null,
            "width": null
          }
        },
        "5c4a46635fb94211baef608fe66587a4": {
          "model_module": "@jupyter-widgets/controls",
          "model_module_version": "1.5.0",
          "model_name": "ProgressStyleModel",
          "state": {
            "_model_module": "@jupyter-widgets/controls",
            "_model_module_version": "1.5.0",
            "_model_name": "ProgressStyleModel",
            "_view_count": null,
            "_view_module": "@jupyter-widgets/base",
            "_view_module_version": "1.2.0",
            "_view_name": "StyleView",
            "bar_color": null,
            "description_width": ""
          }
        },
        "5e8221e146af4892b730cd4dffd5a5d4": {
          "model_module": "@jupyter-widgets/base",
          "model_module_version": "1.2.0",
          "model_name": "LayoutModel",
          "state": {
            "_model_module": "@jupyter-widgets/base",
            "_model_module_version": "1.2.0",
            "_model_name": "LayoutModel",
            "_view_count": null,
            "_view_module": "@jupyter-widgets/base",
            "_view_module_version": "1.2.0",
            "_view_name": "LayoutView",
            "align_content": null,
            "align_items": null,
            "align_self": null,
            "border": null,
            "bottom": null,
            "display": null,
            "flex": null,
            "flex_flow": null,
            "grid_area": null,
            "grid_auto_columns": null,
            "grid_auto_flow": null,
            "grid_auto_rows": null,
            "grid_column": null,
            "grid_gap": null,
            "grid_row": null,
            "grid_template_areas": null,
            "grid_template_columns": null,
            "grid_template_rows": null,
            "height": null,
            "justify_content": null,
            "justify_items": null,
            "left": null,
            "margin": null,
            "max_height": null,
            "max_width": null,
            "min_height": null,
            "min_width": null,
            "object_fit": null,
            "object_position": null,
            "order": null,
            "overflow": null,
            "overflow_x": null,
            "overflow_y": null,
            "padding": null,
            "right": null,
            "top": null,
            "visibility": null,
            "width": null
          }
        },
        "5ec45d2413ca4ad4b41c9c94b56bc9d9": {
          "model_module": "@jupyter-widgets/controls",
          "model_module_version": "1.5.0",
          "model_name": "FloatProgressModel",
          "state": {
            "_dom_classes": [],
            "_model_module": "@jupyter-widgets/controls",
            "_model_module_version": "1.5.0",
            "_model_name": "FloatProgressModel",
            "_view_count": null,
            "_view_module": "@jupyter-widgets/controls",
            "_view_module_version": "1.5.0",
            "_view_name": "ProgressView",
            "bar_style": "success",
            "description": "",
            "description_tooltip": null,
            "layout": "IPY_MODEL_ac22cf8e6e4640858f21306636a6aa72",
            "max": 506,
            "min": 0,
            "orientation": "horizontal",
            "style": "IPY_MODEL_3a5778f51f514cd7adeee7da31994b39",
            "value": 506
          }
        },
        "60e85d1a429640ea8536264e8b79c58b": {
          "model_module": "@jupyter-widgets/base",
          "model_module_version": "1.2.0",
          "model_name": "LayoutModel",
          "state": {
            "_model_module": "@jupyter-widgets/base",
            "_model_module_version": "1.2.0",
            "_model_name": "LayoutModel",
            "_view_count": null,
            "_view_module": "@jupyter-widgets/base",
            "_view_module_version": "1.2.0",
            "_view_name": "LayoutView",
            "align_content": null,
            "align_items": null,
            "align_self": null,
            "border": null,
            "bottom": null,
            "display": null,
            "flex": null,
            "flex_flow": null,
            "grid_area": null,
            "grid_auto_columns": null,
            "grid_auto_flow": null,
            "grid_auto_rows": null,
            "grid_column": null,
            "grid_gap": null,
            "grid_row": null,
            "grid_template_areas": null,
            "grid_template_columns": null,
            "grid_template_rows": null,
            "height": null,
            "justify_content": null,
            "justify_items": null,
            "left": null,
            "margin": null,
            "max_height": null,
            "max_width": null,
            "min_height": null,
            "min_width": null,
            "object_fit": null,
            "object_position": null,
            "order": null,
            "overflow": null,
            "overflow_x": null,
            "overflow_y": null,
            "padding": null,
            "right": null,
            "top": null,
            "visibility": null,
            "width": null
          }
        },
        "626241595bdb44e194ccdb38e486e1d4": {
          "model_module": "@jupyter-widgets/controls",
          "model_module_version": "1.5.0",
          "model_name": "HBoxModel",
          "state": {
            "_dom_classes": [],
            "_model_module": "@jupyter-widgets/controls",
            "_model_module_version": "1.5.0",
            "_model_name": "HBoxModel",
            "_view_count": null,
            "_view_module": "@jupyter-widgets/controls",
            "_view_module_version": "1.5.0",
            "_view_name": "HBoxView",
            "box_style": "",
            "children": [
              "IPY_MODEL_e81c0251aa244789b232c38252873865",
              "IPY_MODEL_5ec45d2413ca4ad4b41c9c94b56bc9d9",
              "IPY_MODEL_2676e87b661245458158d77e1620d1ba"
            ],
            "layout": "IPY_MODEL_19921a1dfb9f4aa29f87d22698e962ae"
          }
        },
        "67c342669ced4606844a5dbfca2c383c": {
          "model_module": "@jupyter-widgets/controls",
          "model_module_version": "1.5.0",
          "model_name": "HBoxModel",
          "state": {
            "_dom_classes": [],
            "_model_module": "@jupyter-widgets/controls",
            "_model_module_version": "1.5.0",
            "_model_name": "HBoxModel",
            "_view_count": null,
            "_view_module": "@jupyter-widgets/controls",
            "_view_module_version": "1.5.0",
            "_view_name": "HBoxView",
            "box_style": "",
            "children": [
              "IPY_MODEL_4322c432a6654e29af8354876d5fcbad",
              "IPY_MODEL_377f517913c440f79e753887d8aab89d",
              "IPY_MODEL_d2619f01c250499ba8b379075abf8310"
            ],
            "layout": "IPY_MODEL_54a7f8c03c37423ab38d5b0ccba02606"
          }
        },
        "6c2e50702bf3441980db57092dcb062c": {
          "model_module": "@jupyter-widgets/base",
          "model_module_version": "1.2.0",
          "model_name": "LayoutModel",
          "state": {
            "_model_module": "@jupyter-widgets/base",
            "_model_module_version": "1.2.0",
            "_model_name": "LayoutModel",
            "_view_count": null,
            "_view_module": "@jupyter-widgets/base",
            "_view_module_version": "1.2.0",
            "_view_name": "LayoutView",
            "align_content": null,
            "align_items": null,
            "align_self": null,
            "border": null,
            "bottom": null,
            "display": null,
            "flex": null,
            "flex_flow": null,
            "grid_area": null,
            "grid_auto_columns": null,
            "grid_auto_flow": null,
            "grid_auto_rows": null,
            "grid_column": null,
            "grid_gap": null,
            "grid_row": null,
            "grid_template_areas": null,
            "grid_template_columns": null,
            "grid_template_rows": null,
            "height": null,
            "justify_content": null,
            "justify_items": null,
            "left": null,
            "margin": null,
            "max_height": null,
            "max_width": null,
            "min_height": null,
            "min_width": null,
            "object_fit": null,
            "object_position": null,
            "order": null,
            "overflow": null,
            "overflow_x": null,
            "overflow_y": null,
            "padding": null,
            "right": null,
            "top": null,
            "visibility": null,
            "width": null
          }
        },
        "6ca91100efa94e20a753e59aee688a21": {
          "model_module": "@jupyter-widgets/controls",
          "model_module_version": "1.5.0",
          "model_name": "DescriptionStyleModel",
          "state": {
            "_model_module": "@jupyter-widgets/controls",
            "_model_module_version": "1.5.0",
            "_model_name": "DescriptionStyleModel",
            "_view_count": null,
            "_view_module": "@jupyter-widgets/base",
            "_view_module_version": "1.2.0",
            "_view_name": "StyleView",
            "description_width": ""
          }
        },
        "6f4e139a61b24c2f9357ea57bb4cfc97": {
          "model_module": "@jupyter-widgets/controls",
          "model_module_version": "1.5.0",
          "model_name": "DescriptionStyleModel",
          "state": {
            "_model_module": "@jupyter-widgets/controls",
            "_model_module_version": "1.5.0",
            "_model_name": "DescriptionStyleModel",
            "_view_count": null,
            "_view_module": "@jupyter-widgets/base",
            "_view_module_version": "1.2.0",
            "_view_name": "StyleView",
            "description_width": ""
          }
        },
        "7116653d90c94a7e8e50d6b1988f862d": {
          "model_module": "@jupyter-widgets/base",
          "model_module_version": "1.2.0",
          "model_name": "LayoutModel",
          "state": {
            "_model_module": "@jupyter-widgets/base",
            "_model_module_version": "1.2.0",
            "_model_name": "LayoutModel",
            "_view_count": null,
            "_view_module": "@jupyter-widgets/base",
            "_view_module_version": "1.2.0",
            "_view_name": "LayoutView",
            "align_content": null,
            "align_items": null,
            "align_self": null,
            "border": null,
            "bottom": null,
            "display": null,
            "flex": null,
            "flex_flow": null,
            "grid_area": null,
            "grid_auto_columns": null,
            "grid_auto_flow": null,
            "grid_auto_rows": null,
            "grid_column": null,
            "grid_gap": null,
            "grid_row": null,
            "grid_template_areas": null,
            "grid_template_columns": null,
            "grid_template_rows": null,
            "height": null,
            "justify_content": null,
            "justify_items": null,
            "left": null,
            "margin": null,
            "max_height": null,
            "max_width": null,
            "min_height": null,
            "min_width": null,
            "object_fit": null,
            "object_position": null,
            "order": null,
            "overflow": null,
            "overflow_x": null,
            "overflow_y": null,
            "padding": null,
            "right": null,
            "top": null,
            "visibility": null,
            "width": null
          }
        },
        "750737f81ed845a6b9698ec92bbe2a04": {
          "model_module": "@jupyter-widgets/controls",
          "model_module_version": "1.5.0",
          "model_name": "ProgressStyleModel",
          "state": {
            "_model_module": "@jupyter-widgets/controls",
            "_model_module_version": "1.5.0",
            "_model_name": "ProgressStyleModel",
            "_view_count": null,
            "_view_module": "@jupyter-widgets/base",
            "_view_module_version": "1.2.0",
            "_view_name": "StyleView",
            "bar_color": null,
            "description_width": ""
          }
        },
        "7674eba9bba3430ca1de43e705a773f0": {
          "model_module": "@jupyter-widgets/controls",
          "model_module_version": "1.5.0",
          "model_name": "HBoxModel",
          "state": {
            "_dom_classes": [],
            "_model_module": "@jupyter-widgets/controls",
            "_model_module_version": "1.5.0",
            "_model_name": "HBoxModel",
            "_view_count": null,
            "_view_module": "@jupyter-widgets/controls",
            "_view_module_version": "1.5.0",
            "_view_name": "HBoxView",
            "box_style": "",
            "children": [
              "IPY_MODEL_e091a439bfbc41e5975da8df9a4bd72f",
              "IPY_MODEL_415002058e554acdaf47580391b08ed0",
              "IPY_MODEL_c918ec3f61be4de89ee5c96b03591127"
            ],
            "layout": "IPY_MODEL_d95fe161c7944b93b48630ed238fd28e"
          }
        },
        "7b61aff77219497bbf661e72e0a7f7c2": {
          "model_module": "@jupyter-widgets/controls",
          "model_module_version": "1.5.0",
          "model_name": "HBoxModel",
          "state": {
            "_dom_classes": [],
            "_model_module": "@jupyter-widgets/controls",
            "_model_module_version": "1.5.0",
            "_model_name": "HBoxModel",
            "_view_count": null,
            "_view_module": "@jupyter-widgets/controls",
            "_view_module_version": "1.5.0",
            "_view_name": "HBoxView",
            "box_style": "",
            "children": [
              "IPY_MODEL_7d5546dce5864a5fbdff26cd0e71966b",
              "IPY_MODEL_9ebf8eefae504f81ac0782ffe8be1e3d",
              "IPY_MODEL_3eadff92d31d4298a2c70b8ebfed70fe"
            ],
            "layout": "IPY_MODEL_7116653d90c94a7e8e50d6b1988f862d"
          }
        },
        "7d5546dce5864a5fbdff26cd0e71966b": {
          "model_module": "@jupyter-widgets/controls",
          "model_module_version": "1.5.0",
          "model_name": "HTMLModel",
          "state": {
            "_dom_classes": [],
            "_model_module": "@jupyter-widgets/controls",
            "_model_module_version": "1.5.0",
            "_model_name": "HTMLModel",
            "_view_count": null,
            "_view_module": "@jupyter-widgets/controls",
            "_view_module_version": "1.5.0",
            "_view_name": "HTMLView",
            "description": "",
            "description_tooltip": null,
            "layout": "IPY_MODEL_f19d79598d6b40b08a23b50d43ca9a30",
            "placeholder": "​",
            "style": "IPY_MODEL_f0d6a9df012f438589f53463d9ec070e",
            "value": "added_tokens.json: 100%"
          }
        },
        "7df426b223494da2988d290c8868eb3e": {
          "model_module": "@jupyter-widgets/base",
          "model_module_version": "1.2.0",
          "model_name": "LayoutModel",
          "state": {
            "_model_module": "@jupyter-widgets/base",
            "_model_module_version": "1.2.0",
            "_model_name": "LayoutModel",
            "_view_count": null,
            "_view_module": "@jupyter-widgets/base",
            "_view_module_version": "1.2.0",
            "_view_name": "LayoutView",
            "align_content": null,
            "align_items": null,
            "align_self": null,
            "border": null,
            "bottom": null,
            "display": null,
            "flex": null,
            "flex_flow": null,
            "grid_area": null,
            "grid_auto_columns": null,
            "grid_auto_flow": null,
            "grid_auto_rows": null,
            "grid_column": null,
            "grid_gap": null,
            "grid_row": null,
            "grid_template_areas": null,
            "grid_template_columns": null,
            "grid_template_rows": null,
            "height": null,
            "justify_content": null,
            "justify_items": null,
            "left": null,
            "margin": null,
            "max_height": null,
            "max_width": null,
            "min_height": null,
            "min_width": null,
            "object_fit": null,
            "object_position": null,
            "order": null,
            "overflow": null,
            "overflow_x": null,
            "overflow_y": null,
            "padding": null,
            "right": null,
            "top": null,
            "visibility": null,
            "width": null
          }
        },
        "821170c06b7b4fed9629fe05c13aece6": {
          "model_module": "@jupyter-widgets/controls",
          "model_module_version": "1.5.0",
          "model_name": "DescriptionStyleModel",
          "state": {
            "_model_module": "@jupyter-widgets/controls",
            "_model_module_version": "1.5.0",
            "_model_name": "DescriptionStyleModel",
            "_view_count": null,
            "_view_module": "@jupyter-widgets/base",
            "_view_module_version": "1.2.0",
            "_view_name": "StyleView",
            "description_width": ""
          }
        },
        "8365d8f6b25c464ab7a04ba4bdf19244": {
          "model_module": "@jupyter-widgets/base",
          "model_module_version": "1.2.0",
          "model_name": "LayoutModel",
          "state": {
            "_model_module": "@jupyter-widgets/base",
            "_model_module_version": "1.2.0",
            "_model_name": "LayoutModel",
            "_view_count": null,
            "_view_module": "@jupyter-widgets/base",
            "_view_module_version": "1.2.0",
            "_view_name": "LayoutView",
            "align_content": null,
            "align_items": null,
            "align_self": null,
            "border": null,
            "bottom": null,
            "display": null,
            "flex": null,
            "flex_flow": null,
            "grid_area": null,
            "grid_auto_columns": null,
            "grid_auto_flow": null,
            "grid_auto_rows": null,
            "grid_column": null,
            "grid_gap": null,
            "grid_row": null,
            "grid_template_areas": null,
            "grid_template_columns": null,
            "grid_template_rows": null,
            "height": null,
            "justify_content": null,
            "justify_items": null,
            "left": null,
            "margin": null,
            "max_height": null,
            "max_width": null,
            "min_height": null,
            "min_width": null,
            "object_fit": null,
            "object_position": null,
            "order": null,
            "overflow": null,
            "overflow_x": null,
            "overflow_y": null,
            "padding": null,
            "right": null,
            "top": null,
            "visibility": null,
            "width": null
          }
        },
        "8b7e111adf0e4805ae63653331884174": {
          "model_module": "@jupyter-widgets/controls",
          "model_module_version": "1.5.0",
          "model_name": "HTMLModel",
          "state": {
            "_dom_classes": [],
            "_model_module": "@jupyter-widgets/controls",
            "_model_module_version": "1.5.0",
            "_model_name": "HTMLModel",
            "_view_count": null,
            "_view_module": "@jupyter-widgets/controls",
            "_view_module_version": "1.5.0",
            "_view_name": "HTMLView",
            "description": "",
            "description_tooltip": null,
            "layout": "IPY_MODEL_3c82b45b1ccf46b7a7ba4e944f3a9406",
            "placeholder": "​",
            "style": "IPY_MODEL_6f4e139a61b24c2f9357ea57bb4cfc97",
            "value": "pytorch_model.bin: 100%"
          }
        },
        "8d15a689c6a94a1698466b12a501aa2e": {
          "model_module": "@jupyter-widgets/base",
          "model_module_version": "1.2.0",
          "model_name": "LayoutModel",
          "state": {
            "_model_module": "@jupyter-widgets/base",
            "_model_module_version": "1.2.0",
            "_model_name": "LayoutModel",
            "_view_count": null,
            "_view_module": "@jupyter-widgets/base",
            "_view_module_version": "1.2.0",
            "_view_name": "LayoutView",
            "align_content": null,
            "align_items": null,
            "align_self": null,
            "border": null,
            "bottom": null,
            "display": null,
            "flex": null,
            "flex_flow": null,
            "grid_area": null,
            "grid_auto_columns": null,
            "grid_auto_flow": null,
            "grid_auto_rows": null,
            "grid_column": null,
            "grid_gap": null,
            "grid_row": null,
            "grid_template_areas": null,
            "grid_template_columns": null,
            "grid_template_rows": null,
            "height": null,
            "justify_content": null,
            "justify_items": null,
            "left": null,
            "margin": null,
            "max_height": null,
            "max_width": null,
            "min_height": null,
            "min_width": null,
            "object_fit": null,
            "object_position": null,
            "order": null,
            "overflow": null,
            "overflow_x": null,
            "overflow_y": null,
            "padding": null,
            "right": null,
            "top": null,
            "visibility": null,
            "width": null
          }
        },
        "90eb0c0875f847d182d3cd7fcc8ecece": {
          "model_module": "@jupyter-widgets/controls",
          "model_module_version": "1.5.0",
          "model_name": "FloatProgressModel",
          "state": {
            "_dom_classes": [],
            "_model_module": "@jupyter-widgets/controls",
            "_model_module_version": "1.5.0",
            "_model_name": "FloatProgressModel",
            "_view_count": null,
            "_view_module": "@jupyter-widgets/controls",
            "_view_module_version": "1.5.0",
            "_view_name": "ProgressView",
            "bar_style": "success",
            "description": "",
            "description_tooltip": null,
            "layout": "IPY_MODEL_7df426b223494da2988d290c8868eb3e",
            "max": 801,
            "min": 0,
            "orientation": "horizontal",
            "style": "IPY_MODEL_10b1626ab83a42e19a5f34368f4019fe",
            "value": 801
          }
        },
        "9949c531a8784d148706ed0e9ef4ded9": {
          "model_module": "@jupyter-widgets/controls",
          "model_module_version": "1.5.0",
          "model_name": "FloatProgressModel",
          "state": {
            "_dom_classes": [],
            "_model_module": "@jupyter-widgets/controls",
            "_model_module_version": "1.5.0",
            "_model_name": "FloatProgressModel",
            "_view_count": null,
            "_view_module": "@jupyter-widgets/controls",
            "_view_module_version": "1.5.0",
            "_view_name": "ProgressView",
            "bar_style": "success",
            "description": "",
            "description_tooltip": null,
            "layout": "IPY_MODEL_06db060107284459ab6654c33b537f4f",
            "max": 539940395,
            "min": 0,
            "orientation": "horizontal",
            "style": "IPY_MODEL_5c4a46635fb94211baef608fe66587a4",
            "value": 539940395
          }
        },
        "9ebf8eefae504f81ac0782ffe8be1e3d": {
          "model_module": "@jupyter-widgets/controls",
          "model_module_version": "1.5.0",
          "model_name": "FloatProgressModel",
          "state": {
            "_dom_classes": [],
            "_model_module": "@jupyter-widgets/controls",
            "_model_module_version": "1.5.0",
            "_model_name": "FloatProgressModel",
            "_view_count": null,
            "_view_module": "@jupyter-widgets/controls",
            "_view_module_version": "1.5.0",
            "_view_name": "ProgressView",
            "bar_style": "success",
            "description": "",
            "description_tooltip": null,
            "layout": "IPY_MODEL_33d5b985a02c40be828028138a92ba3b",
            "max": 17,
            "min": 0,
            "orientation": "horizontal",
            "style": "IPY_MODEL_07e2cebfc41a495e8e6460e06e37a6d6",
            "value": 17
          }
        },
        "a6ec6fad1e5045cdbf57bf6bc1879ecf": {
          "model_module": "@jupyter-widgets/base",
          "model_module_version": "1.2.0",
          "model_name": "LayoutModel",
          "state": {
            "_model_module": "@jupyter-widgets/base",
            "_model_module_version": "1.2.0",
            "_model_name": "LayoutModel",
            "_view_count": null,
            "_view_module": "@jupyter-widgets/base",
            "_view_module_version": "1.2.0",
            "_view_name": "LayoutView",
            "align_content": null,
            "align_items": null,
            "align_self": null,
            "border": null,
            "bottom": null,
            "display": null,
            "flex": null,
            "flex_flow": null,
            "grid_area": null,
            "grid_auto_columns": null,
            "grid_auto_flow": null,
            "grid_auto_rows": null,
            "grid_column": null,
            "grid_gap": null,
            "grid_row": null,
            "grid_template_areas": null,
            "grid_template_columns": null,
            "grid_template_rows": null,
            "height": null,
            "justify_content": null,
            "justify_items": null,
            "left": null,
            "margin": null,
            "max_height": null,
            "max_width": null,
            "min_height": null,
            "min_width": null,
            "object_fit": null,
            "object_position": null,
            "order": null,
            "overflow": null,
            "overflow_x": null,
            "overflow_y": null,
            "padding": null,
            "right": null,
            "top": null,
            "visibility": null,
            "width": null
          }
        },
        "a78b82f019884515833aed54db5895f2": {
          "model_module": "@jupyter-widgets/base",
          "model_module_version": "1.2.0",
          "model_name": "LayoutModel",
          "state": {
            "_model_module": "@jupyter-widgets/base",
            "_model_module_version": "1.2.0",
            "_model_name": "LayoutModel",
            "_view_count": null,
            "_view_module": "@jupyter-widgets/base",
            "_view_module_version": "1.2.0",
            "_view_name": "LayoutView",
            "align_content": null,
            "align_items": null,
            "align_self": null,
            "border": null,
            "bottom": null,
            "display": null,
            "flex": null,
            "flex_flow": null,
            "grid_area": null,
            "grid_auto_columns": null,
            "grid_auto_flow": null,
            "grid_auto_rows": null,
            "grid_column": null,
            "grid_gap": null,
            "grid_row": null,
            "grid_template_areas": null,
            "grid_template_columns": null,
            "grid_template_rows": null,
            "height": null,
            "justify_content": null,
            "justify_items": null,
            "left": null,
            "margin": null,
            "max_height": null,
            "max_width": null,
            "min_height": null,
            "min_width": null,
            "object_fit": null,
            "object_position": null,
            "order": null,
            "overflow": null,
            "overflow_x": null,
            "overflow_y": null,
            "padding": null,
            "right": null,
            "top": null,
            "visibility": null,
            "width": null
          }
        },
        "a8183620bd42460da9175a49319292dc": {
          "model_module": "@jupyter-widgets/controls",
          "model_module_version": "1.5.0",
          "model_name": "HTMLModel",
          "state": {
            "_dom_classes": [],
            "_model_module": "@jupyter-widgets/controls",
            "_model_module_version": "1.5.0",
            "_model_name": "HTMLModel",
            "_view_count": null,
            "_view_module": "@jupyter-widgets/controls",
            "_view_module_version": "1.5.0",
            "_view_name": "HTMLView",
            "description": "",
            "description_tooltip": null,
            "layout": "IPY_MODEL_6c2e50702bf3441980db57092dcb062c",
            "placeholder": "​",
            "style": "IPY_MODEL_821170c06b7b4fed9629fe05c13aece6",
            "value": "config.json: 100%"
          }
        },
        "ac22cf8e6e4640858f21306636a6aa72": {
          "model_module": "@jupyter-widgets/base",
          "model_module_version": "1.2.0",
          "model_name": "LayoutModel",
          "state": {
            "_model_module": "@jupyter-widgets/base",
            "_model_module_version": "1.2.0",
            "_model_name": "LayoutModel",
            "_view_count": null,
            "_view_module": "@jupyter-widgets/base",
            "_view_module_version": "1.2.0",
            "_view_name": "LayoutView",
            "align_content": null,
            "align_items": null,
            "align_self": null,
            "border": null,
            "bottom": null,
            "display": null,
            "flex": null,
            "flex_flow": null,
            "grid_area": null,
            "grid_auto_columns": null,
            "grid_auto_flow": null,
            "grid_auto_rows": null,
            "grid_column": null,
            "grid_gap": null,
            "grid_row": null,
            "grid_template_areas": null,
            "grid_template_columns": null,
            "grid_template_rows": null,
            "height": null,
            "justify_content": null,
            "justify_items": null,
            "left": null,
            "margin": null,
            "max_height": null,
            "max_width": null,
            "min_height": null,
            "min_width": null,
            "object_fit": null,
            "object_position": null,
            "order": null,
            "overflow": null,
            "overflow_x": null,
            "overflow_y": null,
            "padding": null,
            "right": null,
            "top": null,
            "visibility": null,
            "width": null
          }
        },
        "adeb1e28f7cd4ffdb9d745ddac2331e2": {
          "model_module": "@jupyter-widgets/base",
          "model_module_version": "1.2.0",
          "model_name": "LayoutModel",
          "state": {
            "_model_module": "@jupyter-widgets/base",
            "_model_module_version": "1.2.0",
            "_model_name": "LayoutModel",
            "_view_count": null,
            "_view_module": "@jupyter-widgets/base",
            "_view_module_version": "1.2.0",
            "_view_name": "LayoutView",
            "align_content": null,
            "align_items": null,
            "align_self": null,
            "border": null,
            "bottom": null,
            "display": null,
            "flex": null,
            "flex_flow": null,
            "grid_area": null,
            "grid_auto_columns": null,
            "grid_auto_flow": null,
            "grid_auto_rows": null,
            "grid_column": null,
            "grid_gap": null,
            "grid_row": null,
            "grid_template_areas": null,
            "grid_template_columns": null,
            "grid_template_rows": null,
            "height": null,
            "justify_content": null,
            "justify_items": null,
            "left": null,
            "margin": null,
            "max_height": null,
            "max_width": null,
            "min_height": null,
            "min_width": null,
            "object_fit": null,
            "object_position": null,
            "order": null,
            "overflow": null,
            "overflow_x": null,
            "overflow_y": null,
            "padding": null,
            "right": null,
            "top": null,
            "visibility": null,
            "width": null
          }
        },
        "b18da75ba1454e5e89bb7d617f57e67f": {
          "model_module": "@jupyter-widgets/controls",
          "model_module_version": "1.5.0",
          "model_name": "HBoxModel",
          "state": {
            "_dom_classes": [],
            "_model_module": "@jupyter-widgets/controls",
            "_model_module_version": "1.5.0",
            "_model_name": "HBoxModel",
            "_view_count": null,
            "_view_module": "@jupyter-widgets/controls",
            "_view_module_version": "1.5.0",
            "_view_name": "HBoxView",
            "box_style": "",
            "children": [
              "IPY_MODEL_8b7e111adf0e4805ae63653331884174",
              "IPY_MODEL_9949c531a8784d148706ed0e9ef4ded9",
              "IPY_MODEL_e7019ed210d94061ba60155311b5ca47"
            ],
            "layout": "IPY_MODEL_60e85d1a429640ea8536264e8b79c58b"
          }
        },
        "b42fdc0dbb2c489cbdc47cef40a5ad9a": {
          "model_module": "@jupyter-widgets/controls",
          "model_module_version": "1.5.0",
          "model_name": "DescriptionStyleModel",
          "state": {
            "_model_module": "@jupyter-widgets/controls",
            "_model_module_version": "1.5.0",
            "_model_name": "DescriptionStyleModel",
            "_view_count": null,
            "_view_module": "@jupyter-widgets/base",
            "_view_module_version": "1.2.0",
            "_view_name": "StyleView",
            "description_width": ""
          }
        },
        "bc0005b4186546f3aab2ba10caf172b6": {
          "model_module": "@jupyter-widgets/base",
          "model_module_version": "1.2.0",
          "model_name": "LayoutModel",
          "state": {
            "_model_module": "@jupyter-widgets/base",
            "_model_module_version": "1.2.0",
            "_model_name": "LayoutModel",
            "_view_count": null,
            "_view_module": "@jupyter-widgets/base",
            "_view_module_version": "1.2.0",
            "_view_name": "LayoutView",
            "align_content": null,
            "align_items": null,
            "align_self": null,
            "border": null,
            "bottom": null,
            "display": null,
            "flex": null,
            "flex_flow": null,
            "grid_area": null,
            "grid_auto_columns": null,
            "grid_auto_flow": null,
            "grid_auto_rows": null,
            "grid_column": null,
            "grid_gap": null,
            "grid_row": null,
            "grid_template_areas": null,
            "grid_template_columns": null,
            "grid_template_rows": null,
            "height": null,
            "justify_content": null,
            "justify_items": null,
            "left": null,
            "margin": null,
            "max_height": null,
            "max_width": null,
            "min_height": null,
            "min_width": null,
            "object_fit": null,
            "object_position": null,
            "order": null,
            "overflow": null,
            "overflow_x": null,
            "overflow_y": null,
            "padding": null,
            "right": null,
            "top": null,
            "visibility": null,
            "width": null
          }
        },
        "c4619b5aff164252a3851fa58b54efbe": {
          "model_module": "@jupyter-widgets/controls",
          "model_module_version": "1.5.0",
          "model_name": "DescriptionStyleModel",
          "state": {
            "_model_module": "@jupyter-widgets/controls",
            "_model_module_version": "1.5.0",
            "_model_name": "DescriptionStyleModel",
            "_view_count": null,
            "_view_module": "@jupyter-widgets/base",
            "_view_module_version": "1.2.0",
            "_view_name": "StyleView",
            "description_width": ""
          }
        },
        "c54194a146944d81b105d43829b0ad92": {
          "model_module": "@jupyter-widgets/controls",
          "model_module_version": "1.5.0",
          "model_name": "HBoxModel",
          "state": {
            "_dom_classes": [],
            "_model_module": "@jupyter-widgets/controls",
            "_model_module_version": "1.5.0",
            "_model_name": "HBoxModel",
            "_view_count": null,
            "_view_module": "@jupyter-widgets/controls",
            "_view_module_version": "1.5.0",
            "_view_name": "HBoxView",
            "box_style": "",
            "children": [
              "IPY_MODEL_a8183620bd42460da9175a49319292dc",
              "IPY_MODEL_90eb0c0875f847d182d3cd7fcc8ecece",
              "IPY_MODEL_01cf4983a12d4f059de5c426dbd39ba4"
            ],
            "layout": "IPY_MODEL_8365d8f6b25c464ab7a04ba4bdf19244"
          }
        },
        "c918ec3f61be4de89ee5c96b03591127": {
          "model_module": "@jupyter-widgets/controls",
          "model_module_version": "1.5.0",
          "model_name": "HTMLModel",
          "state": {
            "_dom_classes": [],
            "_model_module": "@jupyter-widgets/controls",
            "_model_module_version": "1.5.0",
            "_model_name": "HTMLModel",
            "_view_count": null,
            "_view_module": "@jupyter-widgets/controls",
            "_view_module_version": "1.5.0",
            "_view_name": "HTMLView",
            "description": "",
            "description_tooltip": null,
            "layout": "IPY_MODEL_fad503ff687b4ac6975d66632ca33dbc",
            "placeholder": "​",
            "style": "IPY_MODEL_0f131622a609400cb0787ef73c8d292f",
            "value": " 150/150 [00:00&lt;00:00, 7.88kB/s]"
          }
        },
        "cdf90f1a8d6e487a82adf1eeb5427e0e": {
          "model_module": "@jupyter-widgets/base",
          "model_module_version": "1.2.0",
          "model_name": "LayoutModel",
          "state": {
            "_model_module": "@jupyter-widgets/base",
            "_model_module_version": "1.2.0",
            "_model_name": "LayoutModel",
            "_view_count": null,
            "_view_module": "@jupyter-widgets/base",
            "_view_module_version": "1.2.0",
            "_view_name": "LayoutView",
            "align_content": null,
            "align_items": null,
            "align_self": null,
            "border": null,
            "bottom": null,
            "display": null,
            "flex": null,
            "flex_flow": null,
            "grid_area": null,
            "grid_auto_columns": null,
            "grid_auto_flow": null,
            "grid_auto_rows": null,
            "grid_column": null,
            "grid_gap": null,
            "grid_row": null,
            "grid_template_areas": null,
            "grid_template_columns": null,
            "grid_template_rows": null,
            "height": null,
            "justify_content": null,
            "justify_items": null,
            "left": null,
            "margin": null,
            "max_height": null,
            "max_width": null,
            "min_height": null,
            "min_width": null,
            "object_fit": null,
            "object_position": null,
            "order": null,
            "overflow": null,
            "overflow_x": null,
            "overflow_y": null,
            "padding": null,
            "right": null,
            "top": null,
            "visibility": null,
            "width": null
          }
        },
        "d21e2bd3e69c4df3b8cd873945e07bb6": {
          "model_module": "@jupyter-widgets/controls",
          "model_module_version": "1.5.0",
          "model_name": "FloatProgressModel",
          "state": {
            "_dom_classes": [],
            "_model_module": "@jupyter-widgets/controls",
            "_model_module_version": "1.5.0",
            "_model_name": "FloatProgressModel",
            "_view_count": null,
            "_view_module": "@jupyter-widgets/controls",
            "_view_module_version": "1.5.0",
            "_view_name": "ProgressView",
            "bar_style": "success",
            "description": "",
            "description_tooltip": null,
            "layout": "IPY_MODEL_1c3a6603e1af437593cdec3ebe9686b3",
            "max": 1042340,
            "min": 0,
            "orientation": "horizontal",
            "style": "IPY_MODEL_f40b649e9923465f9d102309106109d6",
            "value": 1042340
          }
        },
        "d2619f01c250499ba8b379075abf8310": {
          "model_module": "@jupyter-widgets/controls",
          "model_module_version": "1.5.0",
          "model_name": "HTMLModel",
          "state": {
            "_dom_classes": [],
            "_model_module": "@jupyter-widgets/controls",
            "_model_module_version": "1.5.0",
            "_model_name": "HTMLModel",
            "_view_count": null,
            "_view_module": "@jupyter-widgets/controls",
            "_view_module_version": "1.5.0",
            "_view_name": "HTMLView",
            "description": "",
            "description_tooltip": null,
            "layout": "IPY_MODEL_bc0005b4186546f3aab2ba10caf172b6",
            "placeholder": "​",
            "style": "IPY_MODEL_267ef0e526694127a7587903465ebd56",
            "value": " 799k/799k [00:00&lt;00:00, 1.34MB/s]"
          }
        },
        "d95fe161c7944b93b48630ed238fd28e": {
          "model_module": "@jupyter-widgets/base",
          "model_module_version": "1.2.0",
          "model_name": "LayoutModel",
          "state": {
            "_model_module": "@jupyter-widgets/base",
            "_model_module_version": "1.2.0",
            "_model_name": "LayoutModel",
            "_view_count": null,
            "_view_module": "@jupyter-widgets/base",
            "_view_module_version": "1.2.0",
            "_view_name": "LayoutView",
            "align_content": null,
            "align_items": null,
            "align_self": null,
            "border": null,
            "bottom": null,
            "display": null,
            "flex": null,
            "flex_flow": null,
            "grid_area": null,
            "grid_auto_columns": null,
            "grid_auto_flow": null,
            "grid_auto_rows": null,
            "grid_column": null,
            "grid_gap": null,
            "grid_row": null,
            "grid_template_areas": null,
            "grid_template_columns": null,
            "grid_template_rows": null,
            "height": null,
            "justify_content": null,
            "justify_items": null,
            "left": null,
            "margin": null,
            "max_height": null,
            "max_width": null,
            "min_height": null,
            "min_width": null,
            "object_fit": null,
            "object_position": null,
            "order": null,
            "overflow": null,
            "overflow_x": null,
            "overflow_y": null,
            "padding": null,
            "right": null,
            "top": null,
            "visibility": null,
            "width": null
          }
        },
        "e091a439bfbc41e5975da8df9a4bd72f": {
          "model_module": "@jupyter-widgets/controls",
          "model_module_version": "1.5.0",
          "model_name": "HTMLModel",
          "state": {
            "_dom_classes": [],
            "_model_module": "@jupyter-widgets/controls",
            "_model_module_version": "1.5.0",
            "_model_name": "HTMLModel",
            "_view_count": null,
            "_view_module": "@jupyter-widgets/controls",
            "_view_module_version": "1.5.0",
            "_view_name": "HTMLView",
            "description": "",
            "description_tooltip": null,
            "layout": "IPY_MODEL_a78b82f019884515833aed54db5895f2",
            "placeholder": "​",
            "style": "IPY_MODEL_fc4a27f725534cd38bcc854840815be3",
            "value": "special_tokens_map.json: 100%"
          }
        },
        "e0daa5ec29da4cef944fb95c81b1b0de": {
          "model_module": "@jupyter-widgets/controls",
          "model_module_version": "1.5.0",
          "model_name": "DescriptionStyleModel",
          "state": {
            "_model_module": "@jupyter-widgets/controls",
            "_model_module_version": "1.5.0",
            "_model_name": "DescriptionStyleModel",
            "_view_count": null,
            "_view_module": "@jupyter-widgets/base",
            "_view_module_version": "1.2.0",
            "_view_name": "StyleView",
            "description_width": ""
          }
        },
        "e13cf874479943f8bc5d08de771c388d": {
          "model_module": "@jupyter-widgets/controls",
          "model_module_version": "1.5.0",
          "model_name": "ProgressStyleModel",
          "state": {
            "_model_module": "@jupyter-widgets/controls",
            "_model_module_version": "1.5.0",
            "_model_name": "ProgressStyleModel",
            "_view_count": null,
            "_view_module": "@jupyter-widgets/base",
            "_view_module_version": "1.2.0",
            "_view_name": "StyleView",
            "bar_color": null,
            "description_width": ""
          }
        },
        "e7019ed210d94061ba60155311b5ca47": {
          "model_module": "@jupyter-widgets/controls",
          "model_module_version": "1.5.0",
          "model_name": "HTMLModel",
          "state": {
            "_dom_classes": [],
            "_model_module": "@jupyter-widgets/controls",
            "_model_module_version": "1.5.0",
            "_model_name": "HTMLModel",
            "_view_count": null,
            "_view_module": "@jupyter-widgets/controls",
            "_view_module_version": "1.5.0",
            "_view_name": "HTMLView",
            "description": "",
            "description_tooltip": null,
            "layout": "IPY_MODEL_e78d1a412b7a47a0846a8f1a3151484d",
            "placeholder": "​",
            "style": "IPY_MODEL_53e1ddc4efa940acae75a25ffa5de193",
            "value": " 540M/540M [00:28&lt;00:00, 18.9MB/s]"
          }
        },
        "e78d1a412b7a47a0846a8f1a3151484d": {
          "model_module": "@jupyter-widgets/base",
          "model_module_version": "1.2.0",
          "model_name": "LayoutModel",
          "state": {
            "_model_module": "@jupyter-widgets/base",
            "_model_module_version": "1.2.0",
            "_model_name": "LayoutModel",
            "_view_count": null,
            "_view_module": "@jupyter-widgets/base",
            "_view_module_version": "1.2.0",
            "_view_name": "LayoutView",
            "align_content": null,
            "align_items": null,
            "align_self": null,
            "border": null,
            "bottom": null,
            "display": null,
            "flex": null,
            "flex_flow": null,
            "grid_area": null,
            "grid_auto_columns": null,
            "grid_auto_flow": null,
            "grid_auto_rows": null,
            "grid_column": null,
            "grid_gap": null,
            "grid_row": null,
            "grid_template_areas": null,
            "grid_template_columns": null,
            "grid_template_rows": null,
            "height": null,
            "justify_content": null,
            "justify_items": null,
            "left": null,
            "margin": null,
            "max_height": null,
            "max_width": null,
            "min_height": null,
            "min_width": null,
            "object_fit": null,
            "object_position": null,
            "order": null,
            "overflow": null,
            "overflow_x": null,
            "overflow_y": null,
            "padding": null,
            "right": null,
            "top": null,
            "visibility": null,
            "width": null
          }
        },
        "e81c0251aa244789b232c38252873865": {
          "model_module": "@jupyter-widgets/controls",
          "model_module_version": "1.5.0",
          "model_name": "HTMLModel",
          "state": {
            "_dom_classes": [],
            "_model_module": "@jupyter-widgets/controls",
            "_model_module_version": "1.5.0",
            "_model_name": "HTMLModel",
            "_view_count": null,
            "_view_module": "@jupyter-widgets/controls",
            "_view_module_version": "1.5.0",
            "_view_name": "HTMLView",
            "description": "",
            "description_tooltip": null,
            "layout": "IPY_MODEL_5e8221e146af4892b730cd4dffd5a5d4",
            "placeholder": "​",
            "style": "IPY_MODEL_410c2955407142038e0c3319126db989",
            "value": "tokenizer_config.json: 100%"
          }
        },
        "f0d6a9df012f438589f53463d9ec070e": {
          "model_module": "@jupyter-widgets/controls",
          "model_module_version": "1.5.0",
          "model_name": "DescriptionStyleModel",
          "state": {
            "_model_module": "@jupyter-widgets/controls",
            "_model_module_version": "1.5.0",
            "_model_name": "DescriptionStyleModel",
            "_view_count": null,
            "_view_module": "@jupyter-widgets/base",
            "_view_module_version": "1.2.0",
            "_view_name": "StyleView",
            "description_width": ""
          }
        },
        "f19d79598d6b40b08a23b50d43ca9a30": {
          "model_module": "@jupyter-widgets/base",
          "model_module_version": "1.2.0",
          "model_name": "LayoutModel",
          "state": {
            "_model_module": "@jupyter-widgets/base",
            "_model_module_version": "1.2.0",
            "_model_name": "LayoutModel",
            "_view_count": null,
            "_view_module": "@jupyter-widgets/base",
            "_view_module_version": "1.2.0",
            "_view_name": "LayoutView",
            "align_content": null,
            "align_items": null,
            "align_self": null,
            "border": null,
            "bottom": null,
            "display": null,
            "flex": null,
            "flex_flow": null,
            "grid_area": null,
            "grid_auto_columns": null,
            "grid_auto_flow": null,
            "grid_auto_rows": null,
            "grid_column": null,
            "grid_gap": null,
            "grid_row": null,
            "grid_template_areas": null,
            "grid_template_columns": null,
            "grid_template_rows": null,
            "height": null,
            "justify_content": null,
            "justify_items": null,
            "left": null,
            "margin": null,
            "max_height": null,
            "max_width": null,
            "min_height": null,
            "min_width": null,
            "object_fit": null,
            "object_position": null,
            "order": null,
            "overflow": null,
            "overflow_x": null,
            "overflow_y": null,
            "padding": null,
            "right": null,
            "top": null,
            "visibility": null,
            "width": null
          }
        },
        "f40b649e9923465f9d102309106109d6": {
          "model_module": "@jupyter-widgets/controls",
          "model_module_version": "1.5.0",
          "model_name": "ProgressStyleModel",
          "state": {
            "_model_module": "@jupyter-widgets/controls",
            "_model_module_version": "1.5.0",
            "_model_name": "ProgressStyleModel",
            "_view_count": null,
            "_view_module": "@jupyter-widgets/base",
            "_view_module_version": "1.2.0",
            "_view_name": "StyleView",
            "bar_color": null,
            "description_width": ""
          }
        },
        "f79d50a4746842e8ba0cffe403f97ce4": {
          "model_module": "@jupyter-widgets/base",
          "model_module_version": "1.2.0",
          "model_name": "LayoutModel",
          "state": {
            "_model_module": "@jupyter-widgets/base",
            "_model_module_version": "1.2.0",
            "_model_name": "LayoutModel",
            "_view_count": null,
            "_view_module": "@jupyter-widgets/base",
            "_view_module_version": "1.2.0",
            "_view_name": "LayoutView",
            "align_content": null,
            "align_items": null,
            "align_self": null,
            "border": null,
            "bottom": null,
            "display": null,
            "flex": null,
            "flex_flow": null,
            "grid_area": null,
            "grid_auto_columns": null,
            "grid_auto_flow": null,
            "grid_auto_rows": null,
            "grid_column": null,
            "grid_gap": null,
            "grid_row": null,
            "grid_template_areas": null,
            "grid_template_columns": null,
            "grid_template_rows": null,
            "height": null,
            "justify_content": null,
            "justify_items": null,
            "left": null,
            "margin": null,
            "max_height": null,
            "max_width": null,
            "min_height": null,
            "min_width": null,
            "object_fit": null,
            "object_position": null,
            "order": null,
            "overflow": null,
            "overflow_x": null,
            "overflow_y": null,
            "padding": null,
            "right": null,
            "top": null,
            "visibility": null,
            "width": null
          }
        },
        "fad503ff687b4ac6975d66632ca33dbc": {
          "model_module": "@jupyter-widgets/base",
          "model_module_version": "1.2.0",
          "model_name": "LayoutModel",
          "state": {
            "_model_module": "@jupyter-widgets/base",
            "_model_module_version": "1.2.0",
            "_model_name": "LayoutModel",
            "_view_count": null,
            "_view_module": "@jupyter-widgets/base",
            "_view_module_version": "1.2.0",
            "_view_name": "LayoutView",
            "align_content": null,
            "align_items": null,
            "align_self": null,
            "border": null,
            "bottom": null,
            "display": null,
            "flex": null,
            "flex_flow": null,
            "grid_area": null,
            "grid_auto_columns": null,
            "grid_auto_flow": null,
            "grid_auto_rows": null,
            "grid_column": null,
            "grid_gap": null,
            "grid_row": null,
            "grid_template_areas": null,
            "grid_template_columns": null,
            "grid_template_rows": null,
            "height": null,
            "justify_content": null,
            "justify_items": null,
            "left": null,
            "margin": null,
            "max_height": null,
            "max_width": null,
            "min_height": null,
            "min_width": null,
            "object_fit": null,
            "object_position": null,
            "order": null,
            "overflow": null,
            "overflow_x": null,
            "overflow_y": null,
            "padding": null,
            "right": null,
            "top": null,
            "visibility": null,
            "width": null
          }
        },
        "fc4a27f725534cd38bcc854840815be3": {
          "model_module": "@jupyter-widgets/controls",
          "model_module_version": "1.5.0",
          "model_name": "DescriptionStyleModel",
          "state": {
            "_model_module": "@jupyter-widgets/controls",
            "_model_module_version": "1.5.0",
            "_model_name": "DescriptionStyleModel",
            "_view_count": null,
            "_view_module": "@jupyter-widgets/base",
            "_view_module_version": "1.2.0",
            "_view_name": "StyleView",
            "description_width": ""
          }
        }
      }
    }
  },
  "nbformat": 4,
  "nbformat_minor": 0
}
